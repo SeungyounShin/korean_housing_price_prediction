{
 "cells": [
  {
   "cell_type": "code",
   "execution_count": 42,
   "metadata": {},
   "outputs": [],
   "source": [
    "import numpy as np\n",
    "import pandas as pd\n",
    "from tqdm import tqdm\n",
    "%matplotlib inline"
   ]
  },
  {
   "cell_type": "code",
   "execution_count": 43,
   "metadata": {},
   "outputs": [],
   "source": [
    "train = pd.read_csv(\"./train.csv\")\n",
    "test =pd.read_csv(\"./test.csv\")"
   ]
  },
  {
   "cell_type": "code",
   "execution_count": 44,
   "metadata": {},
   "outputs": [
    {
     "data": {
      "text/html": [
       "<div>\n",
       "<style>\n",
       "    .dataframe thead tr:only-child th {\n",
       "        text-align: right;\n",
       "    }\n",
       "\n",
       "    .dataframe thead th {\n",
       "        text-align: left;\n",
       "    }\n",
       "\n",
       "    .dataframe tbody tr th {\n",
       "        vertical-align: top;\n",
       "    }\n",
       "</style>\n",
       "<table border=\"1\" class=\"dataframe\">\n",
       "  <thead>\n",
       "    <tr style=\"text-align: right;\">\n",
       "      <th></th>\n",
       "      <th>key</th>\n",
       "      <th>apartment_id</th>\n",
       "      <th>city</th>\n",
       "      <th>transaction_year_month</th>\n",
       "      <th>transaction_date</th>\n",
       "      <th>year_of_completion</th>\n",
       "      <th>exclusive_use_area</th>\n",
       "      <th>floor</th>\n",
       "      <th>latitude</th>\n",
       "      <th>longitude</th>\n",
       "      <th>...</th>\n",
       "      <th>lowest_building_in_sites</th>\n",
       "      <th>heat_type</th>\n",
       "      <th>heat_fuel</th>\n",
       "      <th>room_id</th>\n",
       "      <th>supply_area</th>\n",
       "      <th>total_household_count_of_area_type</th>\n",
       "      <th>room_count</th>\n",
       "      <th>bathroom_count</th>\n",
       "      <th>front_door_structure</th>\n",
       "      <th>transaction_real_price</th>\n",
       "    </tr>\n",
       "  </thead>\n",
       "  <tbody>\n",
       "    <tr>\n",
       "      <th>0</th>\n",
       "      <td>0</td>\n",
       "      <td>5584</td>\n",
       "      <td>1</td>\n",
       "      <td>200601</td>\n",
       "      <td>11~20</td>\n",
       "      <td>1999</td>\n",
       "      <td>47.43</td>\n",
       "      <td>6</td>\n",
       "      <td>37.585965</td>\n",
       "      <td>127.000231</td>\n",
       "      <td>...</td>\n",
       "      <td>4.0</td>\n",
       "      <td>individual</td>\n",
       "      <td>gas</td>\n",
       "      <td>91120</td>\n",
       "      <td>65.63</td>\n",
       "      <td>46</td>\n",
       "      <td>1.0</td>\n",
       "      <td>1.0</td>\n",
       "      <td>corridor</td>\n",
       "      <td>215000000</td>\n",
       "    </tr>\n",
       "    <tr>\n",
       "      <th>1</th>\n",
       "      <td>1</td>\n",
       "      <td>5584</td>\n",
       "      <td>1</td>\n",
       "      <td>200601</td>\n",
       "      <td>11~20</td>\n",
       "      <td>1999</td>\n",
       "      <td>44.37</td>\n",
       "      <td>8</td>\n",
       "      <td>37.585965</td>\n",
       "      <td>127.000231</td>\n",
       "      <td>...</td>\n",
       "      <td>4.0</td>\n",
       "      <td>individual</td>\n",
       "      <td>gas</td>\n",
       "      <td>91119</td>\n",
       "      <td>61.39</td>\n",
       "      <td>10</td>\n",
       "      <td>2.0</td>\n",
       "      <td>1.0</td>\n",
       "      <td>corridor</td>\n",
       "      <td>200000000</td>\n",
       "    </tr>\n",
       "    <tr>\n",
       "      <th>2</th>\n",
       "      <td>2</td>\n",
       "      <td>5059</td>\n",
       "      <td>1</td>\n",
       "      <td>200601</td>\n",
       "      <td>11~20</td>\n",
       "      <td>1992</td>\n",
       "      <td>54.70</td>\n",
       "      <td>8</td>\n",
       "      <td>37.580511</td>\n",
       "      <td>127.014016</td>\n",
       "      <td>...</td>\n",
       "      <td>9.0</td>\n",
       "      <td>individual</td>\n",
       "      <td>gas</td>\n",
       "      <td>8430</td>\n",
       "      <td>72.36</td>\n",
       "      <td>201</td>\n",
       "      <td>2.0</td>\n",
       "      <td>1.0</td>\n",
       "      <td>corridor</td>\n",
       "      <td>168000000</td>\n",
       "    </tr>\n",
       "    <tr>\n",
       "      <th>3</th>\n",
       "      <td>3</td>\n",
       "      <td>2816</td>\n",
       "      <td>1</td>\n",
       "      <td>200601</td>\n",
       "      <td>11~20</td>\n",
       "      <td>1993</td>\n",
       "      <td>64.66</td>\n",
       "      <td>11</td>\n",
       "      <td>37.580324</td>\n",
       "      <td>127.011788</td>\n",
       "      <td>...</td>\n",
       "      <td>11.0</td>\n",
       "      <td>individual</td>\n",
       "      <td>gas</td>\n",
       "      <td>5839</td>\n",
       "      <td>87.30</td>\n",
       "      <td>284</td>\n",
       "      <td>2.0</td>\n",
       "      <td>1.0</td>\n",
       "      <td>corridor</td>\n",
       "      <td>165000000</td>\n",
       "    </tr>\n",
       "    <tr>\n",
       "      <th>4</th>\n",
       "      <td>4</td>\n",
       "      <td>2816</td>\n",
       "      <td>1</td>\n",
       "      <td>200601</td>\n",
       "      <td>11~20</td>\n",
       "      <td>1993</td>\n",
       "      <td>106.62</td>\n",
       "      <td>7</td>\n",
       "      <td>37.580324</td>\n",
       "      <td>127.011788</td>\n",
       "      <td>...</td>\n",
       "      <td>11.0</td>\n",
       "      <td>individual</td>\n",
       "      <td>gas</td>\n",
       "      <td>5836</td>\n",
       "      <td>127.74</td>\n",
       "      <td>112</td>\n",
       "      <td>4.0</td>\n",
       "      <td>2.0</td>\n",
       "      <td>stairway</td>\n",
       "      <td>280000000</td>\n",
       "    </tr>\n",
       "  </tbody>\n",
       "</table>\n",
       "<p>5 rows × 25 columns</p>\n",
       "</div>"
      ],
      "text/plain": [
       "   key  apartment_id  city  transaction_year_month transaction_date  \\\n",
       "0    0          5584     1                  200601            11~20   \n",
       "1    1          5584     1                  200601            11~20   \n",
       "2    2          5059     1                  200601            11~20   \n",
       "3    3          2816     1                  200601            11~20   \n",
       "4    4          2816     1                  200601            11~20   \n",
       "\n",
       "   year_of_completion  exclusive_use_area  floor   latitude   longitude  \\\n",
       "0                1999               47.43      6  37.585965  127.000231   \n",
       "1                1999               44.37      8  37.585965  127.000231   \n",
       "2                1992               54.70      8  37.580511  127.014016   \n",
       "3                1993               64.66     11  37.580324  127.011788   \n",
       "4                1993              106.62      7  37.580324  127.011788   \n",
       "\n",
       "            ...            lowest_building_in_sites   heat_type  heat_fuel  \\\n",
       "0           ...                                 4.0  individual        gas   \n",
       "1           ...                                 4.0  individual        gas   \n",
       "2           ...                                 9.0  individual        gas   \n",
       "3           ...                                11.0  individual        gas   \n",
       "4           ...                                11.0  individual        gas   \n",
       "\n",
       "   room_id  supply_area  total_household_count_of_area_type room_count  \\\n",
       "0    91120        65.63                                  46        1.0   \n",
       "1    91119        61.39                                  10        2.0   \n",
       "2     8430        72.36                                 201        2.0   \n",
       "3     5839        87.30                                 284        2.0   \n",
       "4     5836       127.74                                 112        4.0   \n",
       "\n",
       "  bathroom_count  front_door_structure  transaction_real_price  \n",
       "0            1.0              corridor               215000000  \n",
       "1            1.0              corridor               200000000  \n",
       "2            1.0              corridor               168000000  \n",
       "3            1.0              corridor               165000000  \n",
       "4            2.0              stairway               280000000  \n",
       "\n",
       "[5 rows x 25 columns]"
      ]
     },
     "execution_count": 44,
     "metadata": {},
     "output_type": "execute_result"
    }
   ],
   "source": [
    "train.head(5)"
   ]
  },
  {
   "cell_type": "code",
   "execution_count": 45,
   "metadata": {},
   "outputs": [
    {
     "data": {
      "text/plain": [
       "key                                     int64\n",
       "apartment_id                            int64\n",
       "city                                    int64\n",
       "transaction_year_month                  int64\n",
       "transaction_date                       object\n",
       "year_of_completion                      int64\n",
       "exclusive_use_area                    float64\n",
       "floor                                   int64\n",
       "latitude                              float64\n",
       "longitude                             float64\n",
       "address_by_law                          int64\n",
       "total_parking_capacity_in_site        float64\n",
       "total_household_count_in_sites          int64\n",
       "apartment_building_count_in_sites       int64\n",
       "tallest_building_in_sites             float64\n",
       "lowest_building_in_sites              float64\n",
       "heat_type                              object\n",
       "heat_fuel                              object\n",
       "room_id                                 int64\n",
       "supply_area                           float64\n",
       "total_household_count_of_area_type      int64\n",
       "room_count                            float64\n",
       "bathroom_count                        float64\n",
       "front_door_structure                   object\n",
       "transaction_real_price                  int64\n",
       "dtype: object"
      ]
     },
     "execution_count": 45,
     "metadata": {},
     "output_type": "execute_result"
    }
   ],
   "source": [
    "train.dtypes"
   ]
  },
  {
   "cell_type": "code",
   "execution_count": null,
   "metadata": {},
   "outputs": [],
   "source": [
    "drop = ['key','apartment_id','total_parking_capacity_in_site','heat_type','heat_fuel',\n",
    "        'tallest_building_in_sites','lowest_building_in_sites','room_count','bathroom_count','front_door_structure']\n",
    "train.drop(drop, axis=1,inplace=True)\n",
    "test.drop(drop,axis=1, inplace=True)"
   ]
  },
  {
   "cell_type": "markdown",
   "metadata": {},
   "source": [
    "outlier"
   ]
  },
  {
   "cell_type": "code",
   "execution_count": null,
   "metadata": {},
   "outputs": [],
   "source": [
    "from scipy import stats\n",
    "outlier = train[(np.abs(stats.zscore(train)) < 3).all(axis=1)]"
   ]
  },
  {
   "cell_type": "code",
   "execution_count": null,
   "metadata": {},
   "outputs": [],
   "source": [
    "outlier"
   ]
  },
  {
   "cell_type": "code",
   "execution_count": 6,
   "metadata": {},
   "outputs": [],
   "source": [
    "all_ = train.append(test)\n",
    "#train 1601458\n",
    "#test start from 1601458"
   ]
  },
  {
   "cell_type": "code",
   "execution_count": 7,
   "metadata": {},
   "outputs": [
    {
     "data": {
      "text/html": [
       "<div>\n",
       "<style>\n",
       "    .dataframe thead tr:only-child th {\n",
       "        text-align: right;\n",
       "    }\n",
       "\n",
       "    .dataframe thead th {\n",
       "        text-align: left;\n",
       "    }\n",
       "\n",
       "    .dataframe tbody tr th {\n",
       "        vertical-align: top;\n",
       "    }\n",
       "</style>\n",
       "<table border=\"1\" class=\"dataframe\">\n",
       "  <thead>\n",
       "    <tr style=\"text-align: right;\">\n",
       "      <th></th>\n",
       "      <th>city</th>\n",
       "      <th>transaction_year_month</th>\n",
       "      <th>transaction_date</th>\n",
       "      <th>year_of_completion</th>\n",
       "      <th>exclusive_use_area</th>\n",
       "      <th>floor</th>\n",
       "      <th>latitude</th>\n",
       "      <th>longitude</th>\n",
       "      <th>address_by_law</th>\n",
       "      <th>total_household_count_in_sites</th>\n",
       "      <th>apartment_building_count_in_sites</th>\n",
       "      <th>room_id</th>\n",
       "      <th>supply_area</th>\n",
       "      <th>total_household_count_of_area_type</th>\n",
       "      <th>transaction_real_price</th>\n",
       "    </tr>\n",
       "  </thead>\n",
       "  <tbody>\n",
       "    <tr>\n",
       "      <th>0</th>\n",
       "      <td>1</td>\n",
       "      <td>200601</td>\n",
       "      <td>11~20</td>\n",
       "      <td>1999</td>\n",
       "      <td>47.43</td>\n",
       "      <td>6</td>\n",
       "      <td>37.585965</td>\n",
       "      <td>127.000231</td>\n",
       "      <td>1111017100</td>\n",
       "      <td>136</td>\n",
       "      <td>1</td>\n",
       "      <td>91120</td>\n",
       "      <td>65.63</td>\n",
       "      <td>46</td>\n",
       "      <td>215000000</td>\n",
       "    </tr>\n",
       "    <tr>\n",
       "      <th>1</th>\n",
       "      <td>1</td>\n",
       "      <td>200601</td>\n",
       "      <td>11~20</td>\n",
       "      <td>1999</td>\n",
       "      <td>44.37</td>\n",
       "      <td>8</td>\n",
       "      <td>37.585965</td>\n",
       "      <td>127.000231</td>\n",
       "      <td>1111017100</td>\n",
       "      <td>136</td>\n",
       "      <td>1</td>\n",
       "      <td>91119</td>\n",
       "      <td>61.39</td>\n",
       "      <td>10</td>\n",
       "      <td>200000000</td>\n",
       "    </tr>\n",
       "    <tr>\n",
       "      <th>2</th>\n",
       "      <td>1</td>\n",
       "      <td>200601</td>\n",
       "      <td>11~20</td>\n",
       "      <td>1992</td>\n",
       "      <td>54.70</td>\n",
       "      <td>8</td>\n",
       "      <td>37.580511</td>\n",
       "      <td>127.014016</td>\n",
       "      <td>1111017400</td>\n",
       "      <td>585</td>\n",
       "      <td>5</td>\n",
       "      <td>8430</td>\n",
       "      <td>72.36</td>\n",
       "      <td>201</td>\n",
       "      <td>168000000</td>\n",
       "    </tr>\n",
       "    <tr>\n",
       "      <th>3</th>\n",
       "      <td>1</td>\n",
       "      <td>200601</td>\n",
       "      <td>11~20</td>\n",
       "      <td>1993</td>\n",
       "      <td>64.66</td>\n",
       "      <td>11</td>\n",
       "      <td>37.580324</td>\n",
       "      <td>127.011788</td>\n",
       "      <td>1111017400</td>\n",
       "      <td>919</td>\n",
       "      <td>7</td>\n",
       "      <td>5839</td>\n",
       "      <td>87.30</td>\n",
       "      <td>284</td>\n",
       "      <td>165000000</td>\n",
       "    </tr>\n",
       "    <tr>\n",
       "      <th>4</th>\n",
       "      <td>1</td>\n",
       "      <td>200601</td>\n",
       "      <td>11~20</td>\n",
       "      <td>1993</td>\n",
       "      <td>106.62</td>\n",
       "      <td>7</td>\n",
       "      <td>37.580324</td>\n",
       "      <td>127.011788</td>\n",
       "      <td>1111017400</td>\n",
       "      <td>919</td>\n",
       "      <td>7</td>\n",
       "      <td>5836</td>\n",
       "      <td>127.74</td>\n",
       "      <td>112</td>\n",
       "      <td>280000000</td>\n",
       "    </tr>\n",
       "  </tbody>\n",
       "</table>\n",
       "</div>"
      ],
      "text/plain": [
       "   city  transaction_year_month transaction_date  year_of_completion  \\\n",
       "0     1                  200601            11~20                1999   \n",
       "1     1                  200601            11~20                1999   \n",
       "2     1                  200601            11~20                1992   \n",
       "3     1                  200601            11~20                1993   \n",
       "4     1                  200601            11~20                1993   \n",
       "\n",
       "   exclusive_use_area  floor   latitude   longitude  address_by_law  \\\n",
       "0               47.43      6  37.585965  127.000231      1111017100   \n",
       "1               44.37      8  37.585965  127.000231      1111017100   \n",
       "2               54.70      8  37.580511  127.014016      1111017400   \n",
       "3               64.66     11  37.580324  127.011788      1111017400   \n",
       "4              106.62      7  37.580324  127.011788      1111017400   \n",
       "\n",
       "   total_household_count_in_sites  apartment_building_count_in_sites  room_id  \\\n",
       "0                             136                                  1    91120   \n",
       "1                             136                                  1    91119   \n",
       "2                             585                                  5     8430   \n",
       "3                             919                                  7     5839   \n",
       "4                             919                                  7     5836   \n",
       "\n",
       "   supply_area  total_household_count_of_area_type  transaction_real_price  \n",
       "0        65.63                                  46               215000000  \n",
       "1        61.39                                  10               200000000  \n",
       "2        72.36                                 201               168000000  \n",
       "3        87.30                                 284               165000000  \n",
       "4       127.74                                 112               280000000  "
      ]
     },
     "execution_count": 7,
     "metadata": {},
     "output_type": "execute_result"
    }
   ],
   "source": [
    "all_.head()"
   ]
  },
  {
   "cell_type": "markdown",
   "metadata": {},
   "source": [
    "### Data preprocessing"
   ]
  },
  {
   "cell_type": "markdown",
   "metadata": {},
   "source": [
    "transaction_year_month"
   ]
  },
  {
   "cell_type": "code",
   "execution_count": 8,
   "metadata": {},
   "outputs": [
    {
     "name": "stderr",
     "output_type": "stream",
     "text": [
      "100%|██████████| 1605376/1605376 [00:15<00:00, 101628.39it/s]\n"
     ]
    }
   ],
   "source": [
    "ym = list(all_['transaction_year_month'])\n",
    "cnt = 0\n",
    "for i in tqdm(ym):\n",
    "    transaction_year = int(str(i)[:4])\n",
    "    transaction_month = int(str(i)[4:])\n",
    "    ym[cnt] = [transaction_year,transaction_month]\n",
    "    cnt +=1\n",
    "    \n",
    "ym = pd.DataFrame(ym, columns=['transaction_year', 'transaction_month'])\n",
    "all_.drop('transaction_year_month',axis=1,inplace=True)"
   ]
  },
  {
   "cell_type": "code",
   "execution_count": 9,
   "metadata": {},
   "outputs": [
    {
     "data": {
      "text/html": [
       "<div>\n",
       "<style>\n",
       "    .dataframe thead tr:only-child th {\n",
       "        text-align: right;\n",
       "    }\n",
       "\n",
       "    .dataframe thead th {\n",
       "        text-align: left;\n",
       "    }\n",
       "\n",
       "    .dataframe tbody tr th {\n",
       "        vertical-align: top;\n",
       "    }\n",
       "</style>\n",
       "<table border=\"1\" class=\"dataframe\">\n",
       "  <thead>\n",
       "    <tr style=\"text-align: right;\">\n",
       "      <th></th>\n",
       "      <th>transaction_year</th>\n",
       "      <th>transaction_month</th>\n",
       "    </tr>\n",
       "  </thead>\n",
       "  <tbody>\n",
       "    <tr>\n",
       "      <th>0</th>\n",
       "      <td>2006</td>\n",
       "      <td>1</td>\n",
       "    </tr>\n",
       "    <tr>\n",
       "      <th>1</th>\n",
       "      <td>2006</td>\n",
       "      <td>1</td>\n",
       "    </tr>\n",
       "    <tr>\n",
       "      <th>2</th>\n",
       "      <td>2006</td>\n",
       "      <td>1</td>\n",
       "    </tr>\n",
       "    <tr>\n",
       "      <th>3</th>\n",
       "      <td>2006</td>\n",
       "      <td>1</td>\n",
       "    </tr>\n",
       "    <tr>\n",
       "      <th>4</th>\n",
       "      <td>2006</td>\n",
       "      <td>1</td>\n",
       "    </tr>\n",
       "  </tbody>\n",
       "</table>\n",
       "</div>"
      ],
      "text/plain": [
       "   transaction_year  transaction_month\n",
       "0              2006                  1\n",
       "1              2006                  1\n",
       "2              2006                  1\n",
       "3              2006                  1\n",
       "4              2006                  1"
      ]
     },
     "execution_count": 9,
     "metadata": {},
     "output_type": "execute_result"
    }
   ],
   "source": [
    "ym.head()"
   ]
  },
  {
   "cell_type": "code",
   "execution_count": 10,
   "metadata": {},
   "outputs": [],
   "source": [
    "all_.reset_index(drop=True, inplace=True)\n",
    "ym.reset_index(drop=True, inplace=True)\n",
    "all_=pd.concat([all_,ym],axis=1)"
   ]
  },
  {
   "cell_type": "code",
   "execution_count": 11,
   "metadata": {},
   "outputs": [
    {
     "data": {
      "text/html": [
       "<div>\n",
       "<style>\n",
       "    .dataframe thead tr:only-child th {\n",
       "        text-align: right;\n",
       "    }\n",
       "\n",
       "    .dataframe thead th {\n",
       "        text-align: left;\n",
       "    }\n",
       "\n",
       "    .dataframe tbody tr th {\n",
       "        vertical-align: top;\n",
       "    }\n",
       "</style>\n",
       "<table border=\"1\" class=\"dataframe\">\n",
       "  <thead>\n",
       "    <tr style=\"text-align: right;\">\n",
       "      <th></th>\n",
       "      <th>city</th>\n",
       "      <th>transaction_date</th>\n",
       "      <th>year_of_completion</th>\n",
       "      <th>exclusive_use_area</th>\n",
       "      <th>floor</th>\n",
       "      <th>latitude</th>\n",
       "      <th>longitude</th>\n",
       "      <th>address_by_law</th>\n",
       "      <th>total_household_count_in_sites</th>\n",
       "      <th>apartment_building_count_in_sites</th>\n",
       "      <th>room_id</th>\n",
       "      <th>supply_area</th>\n",
       "      <th>total_household_count_of_area_type</th>\n",
       "      <th>transaction_real_price</th>\n",
       "      <th>transaction_year</th>\n",
       "      <th>transaction_month</th>\n",
       "    </tr>\n",
       "  </thead>\n",
       "  <tbody>\n",
       "    <tr>\n",
       "      <th>0</th>\n",
       "      <td>1</td>\n",
       "      <td>11~20</td>\n",
       "      <td>1999</td>\n",
       "      <td>47.43</td>\n",
       "      <td>6</td>\n",
       "      <td>37.585965</td>\n",
       "      <td>127.000231</td>\n",
       "      <td>1111017100</td>\n",
       "      <td>136</td>\n",
       "      <td>1</td>\n",
       "      <td>91120</td>\n",
       "      <td>65.63</td>\n",
       "      <td>46</td>\n",
       "      <td>215000000</td>\n",
       "      <td>2006</td>\n",
       "      <td>1</td>\n",
       "    </tr>\n",
       "    <tr>\n",
       "      <th>1</th>\n",
       "      <td>1</td>\n",
       "      <td>11~20</td>\n",
       "      <td>1999</td>\n",
       "      <td>44.37</td>\n",
       "      <td>8</td>\n",
       "      <td>37.585965</td>\n",
       "      <td>127.000231</td>\n",
       "      <td>1111017100</td>\n",
       "      <td>136</td>\n",
       "      <td>1</td>\n",
       "      <td>91119</td>\n",
       "      <td>61.39</td>\n",
       "      <td>10</td>\n",
       "      <td>200000000</td>\n",
       "      <td>2006</td>\n",
       "      <td>1</td>\n",
       "    </tr>\n",
       "    <tr>\n",
       "      <th>2</th>\n",
       "      <td>1</td>\n",
       "      <td>11~20</td>\n",
       "      <td>1992</td>\n",
       "      <td>54.70</td>\n",
       "      <td>8</td>\n",
       "      <td>37.580511</td>\n",
       "      <td>127.014016</td>\n",
       "      <td>1111017400</td>\n",
       "      <td>585</td>\n",
       "      <td>5</td>\n",
       "      <td>8430</td>\n",
       "      <td>72.36</td>\n",
       "      <td>201</td>\n",
       "      <td>168000000</td>\n",
       "      <td>2006</td>\n",
       "      <td>1</td>\n",
       "    </tr>\n",
       "    <tr>\n",
       "      <th>3</th>\n",
       "      <td>1</td>\n",
       "      <td>11~20</td>\n",
       "      <td>1993</td>\n",
       "      <td>64.66</td>\n",
       "      <td>11</td>\n",
       "      <td>37.580324</td>\n",
       "      <td>127.011788</td>\n",
       "      <td>1111017400</td>\n",
       "      <td>919</td>\n",
       "      <td>7</td>\n",
       "      <td>5839</td>\n",
       "      <td>87.30</td>\n",
       "      <td>284</td>\n",
       "      <td>165000000</td>\n",
       "      <td>2006</td>\n",
       "      <td>1</td>\n",
       "    </tr>\n",
       "    <tr>\n",
       "      <th>4</th>\n",
       "      <td>1</td>\n",
       "      <td>11~20</td>\n",
       "      <td>1993</td>\n",
       "      <td>106.62</td>\n",
       "      <td>7</td>\n",
       "      <td>37.580324</td>\n",
       "      <td>127.011788</td>\n",
       "      <td>1111017400</td>\n",
       "      <td>919</td>\n",
       "      <td>7</td>\n",
       "      <td>5836</td>\n",
       "      <td>127.74</td>\n",
       "      <td>112</td>\n",
       "      <td>280000000</td>\n",
       "      <td>2006</td>\n",
       "      <td>1</td>\n",
       "    </tr>\n",
       "  </tbody>\n",
       "</table>\n",
       "</div>"
      ],
      "text/plain": [
       "   city transaction_date  year_of_completion  exclusive_use_area  floor  \\\n",
       "0     1            11~20                1999               47.43      6   \n",
       "1     1            11~20                1999               44.37      8   \n",
       "2     1            11~20                1992               54.70      8   \n",
       "3     1            11~20                1993               64.66     11   \n",
       "4     1            11~20                1993              106.62      7   \n",
       "\n",
       "    latitude   longitude  address_by_law  total_household_count_in_sites  \\\n",
       "0  37.585965  127.000231      1111017100                             136   \n",
       "1  37.585965  127.000231      1111017100                             136   \n",
       "2  37.580511  127.014016      1111017400                             585   \n",
       "3  37.580324  127.011788      1111017400                             919   \n",
       "4  37.580324  127.011788      1111017400                             919   \n",
       "\n",
       "   apartment_building_count_in_sites  room_id  supply_area  \\\n",
       "0                                  1    91120        65.63   \n",
       "1                                  1    91119        61.39   \n",
       "2                                  5     8430        72.36   \n",
       "3                                  7     5839        87.30   \n",
       "4                                  7     5836       127.74   \n",
       "\n",
       "   total_household_count_of_area_type  transaction_real_price  \\\n",
       "0                                  46               215000000   \n",
       "1                                  10               200000000   \n",
       "2                                 201               168000000   \n",
       "3                                 284               165000000   \n",
       "4                                 112               280000000   \n",
       "\n",
       "   transaction_year  transaction_month  \n",
       "0              2006                  1  \n",
       "1              2006                  1  \n",
       "2              2006                  1  \n",
       "3              2006                  1  \n",
       "4              2006                  1  "
      ]
     },
     "execution_count": 11,
     "metadata": {},
     "output_type": "execute_result"
    }
   ],
   "source": [
    "all_.head()"
   ]
  },
  {
   "cell_type": "code",
   "execution_count": 12,
   "metadata": {},
   "outputs": [],
   "source": [
    "trans_date = {'1~10':0,'11~20':1,'21~28':2, '21~29':2,'21~30':2, '21~31':2}\n",
    "all_['transaction_date'] = [trans_date[i] for i in all_['transaction_date']]"
   ]
  },
  {
   "cell_type": "code",
   "execution_count": 13,
   "metadata": {},
   "outputs": [
    {
     "data": {
      "text/html": [
       "<div>\n",
       "<style>\n",
       "    .dataframe thead tr:only-child th {\n",
       "        text-align: right;\n",
       "    }\n",
       "\n",
       "    .dataframe thead th {\n",
       "        text-align: left;\n",
       "    }\n",
       "\n",
       "    .dataframe tbody tr th {\n",
       "        vertical-align: top;\n",
       "    }\n",
       "</style>\n",
       "<table border=\"1\" class=\"dataframe\">\n",
       "  <thead>\n",
       "    <tr style=\"text-align: right;\">\n",
       "      <th></th>\n",
       "      <th>city</th>\n",
       "      <th>transaction_date</th>\n",
       "      <th>year_of_completion</th>\n",
       "      <th>exclusive_use_area</th>\n",
       "      <th>floor</th>\n",
       "      <th>latitude</th>\n",
       "      <th>longitude</th>\n",
       "      <th>address_by_law</th>\n",
       "      <th>total_household_count_in_sites</th>\n",
       "      <th>apartment_building_count_in_sites</th>\n",
       "      <th>room_id</th>\n",
       "      <th>supply_area</th>\n",
       "      <th>total_household_count_of_area_type</th>\n",
       "      <th>transaction_real_price</th>\n",
       "      <th>transaction_year</th>\n",
       "      <th>transaction_month</th>\n",
       "    </tr>\n",
       "  </thead>\n",
       "  <tbody>\n",
       "    <tr>\n",
       "      <th>0</th>\n",
       "      <td>1</td>\n",
       "      <td>1</td>\n",
       "      <td>1999</td>\n",
       "      <td>47.43</td>\n",
       "      <td>6</td>\n",
       "      <td>37.585965</td>\n",
       "      <td>127.000231</td>\n",
       "      <td>1111017100</td>\n",
       "      <td>136</td>\n",
       "      <td>1</td>\n",
       "      <td>91120</td>\n",
       "      <td>65.63</td>\n",
       "      <td>46</td>\n",
       "      <td>215000000</td>\n",
       "      <td>2006</td>\n",
       "      <td>1</td>\n",
       "    </tr>\n",
       "    <tr>\n",
       "      <th>1</th>\n",
       "      <td>1</td>\n",
       "      <td>1</td>\n",
       "      <td>1999</td>\n",
       "      <td>44.37</td>\n",
       "      <td>8</td>\n",
       "      <td>37.585965</td>\n",
       "      <td>127.000231</td>\n",
       "      <td>1111017100</td>\n",
       "      <td>136</td>\n",
       "      <td>1</td>\n",
       "      <td>91119</td>\n",
       "      <td>61.39</td>\n",
       "      <td>10</td>\n",
       "      <td>200000000</td>\n",
       "      <td>2006</td>\n",
       "      <td>1</td>\n",
       "    </tr>\n",
       "    <tr>\n",
       "      <th>2</th>\n",
       "      <td>1</td>\n",
       "      <td>1</td>\n",
       "      <td>1992</td>\n",
       "      <td>54.70</td>\n",
       "      <td>8</td>\n",
       "      <td>37.580511</td>\n",
       "      <td>127.014016</td>\n",
       "      <td>1111017400</td>\n",
       "      <td>585</td>\n",
       "      <td>5</td>\n",
       "      <td>8430</td>\n",
       "      <td>72.36</td>\n",
       "      <td>201</td>\n",
       "      <td>168000000</td>\n",
       "      <td>2006</td>\n",
       "      <td>1</td>\n",
       "    </tr>\n",
       "    <tr>\n",
       "      <th>3</th>\n",
       "      <td>1</td>\n",
       "      <td>1</td>\n",
       "      <td>1993</td>\n",
       "      <td>64.66</td>\n",
       "      <td>11</td>\n",
       "      <td>37.580324</td>\n",
       "      <td>127.011788</td>\n",
       "      <td>1111017400</td>\n",
       "      <td>919</td>\n",
       "      <td>7</td>\n",
       "      <td>5839</td>\n",
       "      <td>87.30</td>\n",
       "      <td>284</td>\n",
       "      <td>165000000</td>\n",
       "      <td>2006</td>\n",
       "      <td>1</td>\n",
       "    </tr>\n",
       "    <tr>\n",
       "      <th>4</th>\n",
       "      <td>1</td>\n",
       "      <td>1</td>\n",
       "      <td>1993</td>\n",
       "      <td>106.62</td>\n",
       "      <td>7</td>\n",
       "      <td>37.580324</td>\n",
       "      <td>127.011788</td>\n",
       "      <td>1111017400</td>\n",
       "      <td>919</td>\n",
       "      <td>7</td>\n",
       "      <td>5836</td>\n",
       "      <td>127.74</td>\n",
       "      <td>112</td>\n",
       "      <td>280000000</td>\n",
       "      <td>2006</td>\n",
       "      <td>1</td>\n",
       "    </tr>\n",
       "  </tbody>\n",
       "</table>\n",
       "</div>"
      ],
      "text/plain": [
       "   city  transaction_date  year_of_completion  exclusive_use_area  floor  \\\n",
       "0     1                 1                1999               47.43      6   \n",
       "1     1                 1                1999               44.37      8   \n",
       "2     1                 1                1992               54.70      8   \n",
       "3     1                 1                1993               64.66     11   \n",
       "4     1                 1                1993              106.62      7   \n",
       "\n",
       "    latitude   longitude  address_by_law  total_household_count_in_sites  \\\n",
       "0  37.585965  127.000231      1111017100                             136   \n",
       "1  37.585965  127.000231      1111017100                             136   \n",
       "2  37.580511  127.014016      1111017400                             585   \n",
       "3  37.580324  127.011788      1111017400                             919   \n",
       "4  37.580324  127.011788      1111017400                             919   \n",
       "\n",
       "   apartment_building_count_in_sites  room_id  supply_area  \\\n",
       "0                                  1    91120        65.63   \n",
       "1                                  1    91119        61.39   \n",
       "2                                  5     8430        72.36   \n",
       "3                                  7     5839        87.30   \n",
       "4                                  7     5836       127.74   \n",
       "\n",
       "   total_household_count_of_area_type  transaction_real_price  \\\n",
       "0                                  46               215000000   \n",
       "1                                  10               200000000   \n",
       "2                                 201               168000000   \n",
       "3                                 284               165000000   \n",
       "4                                 112               280000000   \n",
       "\n",
       "   transaction_year  transaction_month  \n",
       "0              2006                  1  \n",
       "1              2006                  1  \n",
       "2              2006                  1  \n",
       "3              2006                  1  \n",
       "4              2006                  1  "
      ]
     },
     "execution_count": 13,
     "metadata": {},
     "output_type": "execute_result"
    }
   ],
   "source": [
    "all_.head()"
   ]
  },
  {
   "cell_type": "markdown",
   "metadata": {},
   "source": [
    "address"
   ]
  },
  {
   "cell_type": "code",
   "execution_count": 14,
   "metadata": {},
   "outputs": [
    {
     "name": "stderr",
     "output_type": "stream",
     "text": [
      "100%|██████████| 1605376/1605376 [00:23<00:00, 68900.10it/s]\n"
     ]
    },
    {
     "data": {
      "text/html": [
       "<div>\n",
       "<style>\n",
       "    .dataframe thead tr:only-child th {\n",
       "        text-align: right;\n",
       "    }\n",
       "\n",
       "    .dataframe thead th {\n",
       "        text-align: left;\n",
       "    }\n",
       "\n",
       "    .dataframe tbody tr th {\n",
       "        vertical-align: top;\n",
       "    }\n",
       "</style>\n",
       "<table border=\"1\" class=\"dataframe\">\n",
       "  <thead>\n",
       "    <tr style=\"text-align: right;\">\n",
       "      <th></th>\n",
       "      <th>city</th>\n",
       "      <th>transaction_date</th>\n",
       "      <th>year_of_completion</th>\n",
       "      <th>exclusive_use_area</th>\n",
       "      <th>floor</th>\n",
       "      <th>latitude</th>\n",
       "      <th>longitude</th>\n",
       "      <th>address_by_law</th>\n",
       "      <th>total_household_count_in_sites</th>\n",
       "      <th>apartment_building_count_in_sites</th>\n",
       "      <th>room_id</th>\n",
       "      <th>supply_area</th>\n",
       "      <th>total_household_count_of_area_type</th>\n",
       "      <th>transaction_real_price</th>\n",
       "      <th>transaction_year</th>\n",
       "      <th>transaction_month</th>\n",
       "      <th>district</th>\n",
       "      <th>street</th>\n",
       "      <th>etc_address</th>\n",
       "    </tr>\n",
       "  </thead>\n",
       "  <tbody>\n",
       "    <tr>\n",
       "      <th>0</th>\n",
       "      <td>1</td>\n",
       "      <td>1</td>\n",
       "      <td>1999</td>\n",
       "      <td>47.43</td>\n",
       "      <td>6</td>\n",
       "      <td>37.585965</td>\n",
       "      <td>127.000231</td>\n",
       "      <td>1111017100</td>\n",
       "      <td>136</td>\n",
       "      <td>1</td>\n",
       "      <td>91120</td>\n",
       "      <td>65.63</td>\n",
       "      <td>46</td>\n",
       "      <td>215000000</td>\n",
       "      <td>2006</td>\n",
       "      <td>1</td>\n",
       "      <td>110</td>\n",
       "      <td>171</td>\n",
       "      <td>0</td>\n",
       "    </tr>\n",
       "    <tr>\n",
       "      <th>1</th>\n",
       "      <td>1</td>\n",
       "      <td>1</td>\n",
       "      <td>1999</td>\n",
       "      <td>44.37</td>\n",
       "      <td>8</td>\n",
       "      <td>37.585965</td>\n",
       "      <td>127.000231</td>\n",
       "      <td>1111017100</td>\n",
       "      <td>136</td>\n",
       "      <td>1</td>\n",
       "      <td>91119</td>\n",
       "      <td>61.39</td>\n",
       "      <td>10</td>\n",
       "      <td>200000000</td>\n",
       "      <td>2006</td>\n",
       "      <td>1</td>\n",
       "      <td>110</td>\n",
       "      <td>171</td>\n",
       "      <td>0</td>\n",
       "    </tr>\n",
       "    <tr>\n",
       "      <th>2</th>\n",
       "      <td>1</td>\n",
       "      <td>1</td>\n",
       "      <td>1992</td>\n",
       "      <td>54.70</td>\n",
       "      <td>8</td>\n",
       "      <td>37.580511</td>\n",
       "      <td>127.014016</td>\n",
       "      <td>1111017400</td>\n",
       "      <td>585</td>\n",
       "      <td>5</td>\n",
       "      <td>8430</td>\n",
       "      <td>72.36</td>\n",
       "      <td>201</td>\n",
       "      <td>168000000</td>\n",
       "      <td>2006</td>\n",
       "      <td>1</td>\n",
       "      <td>110</td>\n",
       "      <td>174</td>\n",
       "      <td>0</td>\n",
       "    </tr>\n",
       "    <tr>\n",
       "      <th>3</th>\n",
       "      <td>1</td>\n",
       "      <td>1</td>\n",
       "      <td>1993</td>\n",
       "      <td>64.66</td>\n",
       "      <td>11</td>\n",
       "      <td>37.580324</td>\n",
       "      <td>127.011788</td>\n",
       "      <td>1111017400</td>\n",
       "      <td>919</td>\n",
       "      <td>7</td>\n",
       "      <td>5839</td>\n",
       "      <td>87.30</td>\n",
       "      <td>284</td>\n",
       "      <td>165000000</td>\n",
       "      <td>2006</td>\n",
       "      <td>1</td>\n",
       "      <td>110</td>\n",
       "      <td>174</td>\n",
       "      <td>0</td>\n",
       "    </tr>\n",
       "    <tr>\n",
       "      <th>4</th>\n",
       "      <td>1</td>\n",
       "      <td>1</td>\n",
       "      <td>1993</td>\n",
       "      <td>106.62</td>\n",
       "      <td>7</td>\n",
       "      <td>37.580324</td>\n",
       "      <td>127.011788</td>\n",
       "      <td>1111017400</td>\n",
       "      <td>919</td>\n",
       "      <td>7</td>\n",
       "      <td>5836</td>\n",
       "      <td>127.74</td>\n",
       "      <td>112</td>\n",
       "      <td>280000000</td>\n",
       "      <td>2006</td>\n",
       "      <td>1</td>\n",
       "      <td>110</td>\n",
       "      <td>174</td>\n",
       "      <td>0</td>\n",
       "    </tr>\n",
       "  </tbody>\n",
       "</table>\n",
       "</div>"
      ],
      "text/plain": [
       "   city  transaction_date  year_of_completion  exclusive_use_area  floor  \\\n",
       "0     1                 1                1999               47.43      6   \n",
       "1     1                 1                1999               44.37      8   \n",
       "2     1                 1                1992               54.70      8   \n",
       "3     1                 1                1993               64.66     11   \n",
       "4     1                 1                1993              106.62      7   \n",
       "\n",
       "    latitude   longitude  address_by_law  total_household_count_in_sites  \\\n",
       "0  37.585965  127.000231      1111017100                             136   \n",
       "1  37.585965  127.000231      1111017100                             136   \n",
       "2  37.580511  127.014016      1111017400                             585   \n",
       "3  37.580324  127.011788      1111017400                             919   \n",
       "4  37.580324  127.011788      1111017400                             919   \n",
       "\n",
       "   apartment_building_count_in_sites  room_id  supply_area  \\\n",
       "0                                  1    91120        65.63   \n",
       "1                                  1    91119        61.39   \n",
       "2                                  5     8430        72.36   \n",
       "3                                  7     5839        87.30   \n",
       "4                                  7     5836       127.74   \n",
       "\n",
       "   total_household_count_of_area_type  transaction_real_price  \\\n",
       "0                                  46               215000000   \n",
       "1                                  10               200000000   \n",
       "2                                 201               168000000   \n",
       "3                                 284               165000000   \n",
       "4                                 112               280000000   \n",
       "\n",
       "   transaction_year  transaction_month  district  street  etc_address  \n",
       "0              2006                  1       110     171            0  \n",
       "1              2006                  1       110     171            0  \n",
       "2              2006                  1       110     174            0  \n",
       "3              2006                  1       110     174            0  \n",
       "4              2006                  1       110     174            0  "
      ]
     },
     "execution_count": 14,
     "metadata": {},
     "output_type": "execute_result"
    }
   ],
   "source": [
    "all_['address_by_law']\n",
    "\n",
    "addr = list(all_['address_by_law'])\n",
    "cnt = 0\n",
    "for i in tqdm(addr):\n",
    "    district = int(str(i)[2:5])\n",
    "    street = int(str(i)[5:8])\n",
    "    etc_address = int(str(i)[8:10])\n",
    "    addr[cnt] = [district,street,etc_address]\n",
    "    cnt +=1\n",
    "    \n",
    "addr = pd.DataFrame(addr, columns=['district', 'street', 'etc_address'])\n",
    "all_ = pd.concat([all_, addr], axis=1)\n",
    "all_.head(5)"
   ]
  },
  {
   "cell_type": "code",
   "execution_count": 15,
   "metadata": {},
   "outputs": [],
   "source": [
    "all_.drop('address_by_law',axis=1,inplace=True)"
   ]
  },
  {
   "cell_type": "code",
   "execution_count": 16,
   "metadata": {},
   "outputs": [
    {
     "data": {
      "text/plain": [
       "city                                  False\n",
       "transaction_date                      False\n",
       "year_of_completion                    False\n",
       "exclusive_use_area                    False\n",
       "floor                                 False\n",
       "latitude                              False\n",
       "longitude                             False\n",
       "total_household_count_in_sites        False\n",
       "apartment_building_count_in_sites     False\n",
       "room_id                               False\n",
       "supply_area                           False\n",
       "total_household_count_of_area_type    False\n",
       "transaction_real_price                False\n",
       "transaction_year                      False\n",
       "transaction_month                     False\n",
       "district                              False\n",
       "street                                False\n",
       "etc_address                           False\n",
       "dtype: bool"
      ]
     },
     "execution_count": 16,
     "metadata": {},
     "output_type": "execute_result"
    }
   ],
   "source": [
    "all_.isnull().any()"
   ]
  },
  {
   "cell_type": "code",
   "execution_count": 17,
   "metadata": {},
   "outputs": [
    {
     "data": {
      "text/plain": [
       "city                                    int64\n",
       "transaction_date                        int64\n",
       "year_of_completion                      int64\n",
       "exclusive_use_area                    float64\n",
       "floor                                   int64\n",
       "latitude                              float64\n",
       "longitude                             float64\n",
       "total_household_count_in_sites          int64\n",
       "apartment_building_count_in_sites       int64\n",
       "room_id                                 int64\n",
       "supply_area                           float64\n",
       "total_household_count_of_area_type      int64\n",
       "transaction_real_price                  int64\n",
       "transaction_year                        int64\n",
       "transaction_month                       int64\n",
       "district                                int64\n",
       "street                                  int64\n",
       "etc_address                             int64\n",
       "dtype: object"
      ]
     },
     "execution_count": 17,
     "metadata": {},
     "output_type": "execute_result"
    }
   ],
   "source": [
    "all_.dtypes"
   ]
  },
  {
   "cell_type": "markdown",
   "metadata": {},
   "source": [
    "x, y split"
   ]
  },
  {
   "cell_type": "code",
   "execution_count": 18,
   "metadata": {},
   "outputs": [
    {
     "data": {
      "text/html": [
       "<div>\n",
       "<style>\n",
       "    .dataframe thead tr:only-child th {\n",
       "        text-align: right;\n",
       "    }\n",
       "\n",
       "    .dataframe thead th {\n",
       "        text-align: left;\n",
       "    }\n",
       "\n",
       "    .dataframe tbody tr th {\n",
       "        vertical-align: top;\n",
       "    }\n",
       "</style>\n",
       "<table border=\"1\" class=\"dataframe\">\n",
       "  <thead>\n",
       "    <tr style=\"text-align: right;\">\n",
       "      <th></th>\n",
       "      <th>city</th>\n",
       "      <th>transaction_date</th>\n",
       "      <th>year_of_completion</th>\n",
       "      <th>exclusive_use_area</th>\n",
       "      <th>floor</th>\n",
       "      <th>latitude</th>\n",
       "      <th>longitude</th>\n",
       "      <th>total_household_count_in_sites</th>\n",
       "      <th>apartment_building_count_in_sites</th>\n",
       "      <th>room_id</th>\n",
       "      <th>supply_area</th>\n",
       "      <th>total_household_count_of_area_type</th>\n",
       "      <th>transaction_real_price</th>\n",
       "      <th>transaction_year</th>\n",
       "      <th>transaction_month</th>\n",
       "      <th>district</th>\n",
       "      <th>street</th>\n",
       "      <th>etc_address</th>\n",
       "    </tr>\n",
       "  </thead>\n",
       "  <tbody>\n",
       "    <tr>\n",
       "      <th>1485187</th>\n",
       "      <td>1</td>\n",
       "      <td>1</td>\n",
       "      <td>1984</td>\n",
       "      <td>54.81</td>\n",
       "      <td>5</td>\n",
       "      <td>37.552700</td>\n",
       "      <td>127.148545</td>\n",
       "      <td>2400</td>\n",
       "      <td>18</td>\n",
       "      <td>4184</td>\n",
       "      <td>76.44</td>\n",
       "      <td>495</td>\n",
       "      <td>558000000</td>\n",
       "      <td>2017</td>\n",
       "      <td>11</td>\n",
       "      <td>740</td>\n",
       "      <td>101</td>\n",
       "      <td>0</td>\n",
       "    </tr>\n",
       "    <tr>\n",
       "      <th>1068189</th>\n",
       "      <td>0</td>\n",
       "      <td>1</td>\n",
       "      <td>1989</td>\n",
       "      <td>66.56</td>\n",
       "      <td>15</td>\n",
       "      <td>35.161129</td>\n",
       "      <td>129.032632</td>\n",
       "      <td>2716</td>\n",
       "      <td>20</td>\n",
       "      <td>26325</td>\n",
       "      <td>92.74</td>\n",
       "      <td>180</td>\n",
       "      <td>170000000</td>\n",
       "      <td>2015</td>\n",
       "      <td>5</td>\n",
       "      <td>230</td>\n",
       "      <td>109</td>\n",
       "      <td>0</td>\n",
       "    </tr>\n",
       "    <tr>\n",
       "      <th>93918</th>\n",
       "      <td>1</td>\n",
       "      <td>1</td>\n",
       "      <td>1994</td>\n",
       "      <td>59.04</td>\n",
       "      <td>5</td>\n",
       "      <td>37.574298</td>\n",
       "      <td>126.817491</td>\n",
       "      <td>387</td>\n",
       "      <td>3</td>\n",
       "      <td>4642</td>\n",
       "      <td>77.96</td>\n",
       "      <td>119</td>\n",
       "      <td>179000000</td>\n",
       "      <td>2006</td>\n",
       "      <td>10</td>\n",
       "      <td>500</td>\n",
       "      <td>109</td>\n",
       "      <td>0</td>\n",
       "    </tr>\n",
       "    <tr>\n",
       "      <th>1344154</th>\n",
       "      <td>1</td>\n",
       "      <td>0</td>\n",
       "      <td>2010</td>\n",
       "      <td>59.99</td>\n",
       "      <td>11</td>\n",
       "      <td>37.607562</td>\n",
       "      <td>127.017944</td>\n",
       "      <td>1497</td>\n",
       "      <td>25</td>\n",
       "      <td>15226</td>\n",
       "      <td>85.55</td>\n",
       "      <td>122</td>\n",
       "      <td>463000000</td>\n",
       "      <td>2016</td>\n",
       "      <td>11</td>\n",
       "      <td>290</td>\n",
       "      <td>134</td>\n",
       "      <td>0</td>\n",
       "    </tr>\n",
       "    <tr>\n",
       "      <th>870631</th>\n",
       "      <td>0</td>\n",
       "      <td>0</td>\n",
       "      <td>2012</td>\n",
       "      <td>124.47</td>\n",
       "      <td>2</td>\n",
       "      <td>35.083138</td>\n",
       "      <td>128.908718</td>\n",
       "      <td>414</td>\n",
       "      <td>17</td>\n",
       "      <td>52043</td>\n",
       "      <td>152.13</td>\n",
       "      <td>80</td>\n",
       "      <td>346500000</td>\n",
       "      <td>2014</td>\n",
       "      <td>2</td>\n",
       "      <td>440</td>\n",
       "      <td>104</td>\n",
       "      <td>0</td>\n",
       "    </tr>\n",
       "  </tbody>\n",
       "</table>\n",
       "</div>"
      ],
      "text/plain": [
       "         city  transaction_date  year_of_completion  exclusive_use_area  \\\n",
       "1485187     1                 1                1984               54.81   \n",
       "1068189     0                 1                1989               66.56   \n",
       "93918       1                 1                1994               59.04   \n",
       "1344154     1                 0                2010               59.99   \n",
       "870631      0                 0                2012              124.47   \n",
       "\n",
       "         floor   latitude   longitude  total_household_count_in_sites  \\\n",
       "1485187      5  37.552700  127.148545                            2400   \n",
       "1068189     15  35.161129  129.032632                            2716   \n",
       "93918        5  37.574298  126.817491                             387   \n",
       "1344154     11  37.607562  127.017944                            1497   \n",
       "870631       2  35.083138  128.908718                             414   \n",
       "\n",
       "         apartment_building_count_in_sites  room_id  supply_area  \\\n",
       "1485187                                 18     4184        76.44   \n",
       "1068189                                 20    26325        92.74   \n",
       "93918                                    3     4642        77.96   \n",
       "1344154                                 25    15226        85.55   \n",
       "870631                                  17    52043       152.13   \n",
       "\n",
       "         total_household_count_of_area_type  transaction_real_price  \\\n",
       "1485187                                 495               558000000   \n",
       "1068189                                 180               170000000   \n",
       "93918                                   119               179000000   \n",
       "1344154                                 122               463000000   \n",
       "870631                                   80               346500000   \n",
       "\n",
       "         transaction_year  transaction_month  district  street  etc_address  \n",
       "1485187              2017                 11       740     101            0  \n",
       "1068189              2015                  5       230     109            0  \n",
       "93918                2006                 10       500     109            0  \n",
       "1344154              2016                 11       290     134            0  \n",
       "870631               2014                  2       440     104            0  "
      ]
     },
     "execution_count": 18,
     "metadata": {},
     "output_type": "execute_result"
    }
   ],
   "source": [
    "all_.sample(n=5)"
   ]
  },
  {
   "cell_type": "code",
   "execution_count": 19,
   "metadata": {},
   "outputs": [
    {
     "data": {
      "text/html": [
       "<div>\n",
       "<style>\n",
       "    .dataframe thead tr:only-child th {\n",
       "        text-align: right;\n",
       "    }\n",
       "\n",
       "    .dataframe thead th {\n",
       "        text-align: left;\n",
       "    }\n",
       "\n",
       "    .dataframe tbody tr th {\n",
       "        vertical-align: top;\n",
       "    }\n",
       "</style>\n",
       "<table border=\"1\" class=\"dataframe\">\n",
       "  <thead>\n",
       "    <tr style=\"text-align: right;\">\n",
       "      <th></th>\n",
       "      <th>city</th>\n",
       "      <th>transaction_date</th>\n",
       "      <th>year_of_completion</th>\n",
       "      <th>exclusive_use_area</th>\n",
       "      <th>floor</th>\n",
       "      <th>latitude</th>\n",
       "      <th>longitude</th>\n",
       "      <th>total_household_count_in_sites</th>\n",
       "      <th>apartment_building_count_in_sites</th>\n",
       "      <th>room_id</th>\n",
       "      <th>supply_area</th>\n",
       "      <th>total_household_count_of_area_type</th>\n",
       "      <th>transaction_year</th>\n",
       "      <th>transaction_month</th>\n",
       "      <th>district</th>\n",
       "      <th>street</th>\n",
       "      <th>etc_address</th>\n",
       "    </tr>\n",
       "  </thead>\n",
       "  <tbody>\n",
       "    <tr>\n",
       "      <th>584888</th>\n",
       "      <td>0.0</td>\n",
       "      <td>0.5</td>\n",
       "      <td>0.767857</td>\n",
       "      <td>0.396019</td>\n",
       "      <td>0.309524</td>\n",
       "      <td>0.049047</td>\n",
       "      <td>0.953618</td>\n",
       "      <td>0.392166</td>\n",
       "      <td>0.105691</td>\n",
       "      <td>0.195101</td>\n",
       "      <td>0.363923</td>\n",
       "      <td>0.129730</td>\n",
       "      <td>0.416667</td>\n",
       "      <td>0.090909</td>\n",
       "      <td>0.380952</td>\n",
       "      <td>0.013100</td>\n",
       "      <td>0.0</td>\n",
       "    </tr>\n",
       "    <tr>\n",
       "      <th>315671</th>\n",
       "      <td>1.0</td>\n",
       "      <td>1.0</td>\n",
       "      <td>0.732143</td>\n",
       "      <td>0.051118</td>\n",
       "      <td>0.178571</td>\n",
       "      <td>0.926423</td>\n",
       "      <td>0.107975</td>\n",
       "      <td>0.028677</td>\n",
       "      <td>0.000000</td>\n",
       "      <td>0.864278</td>\n",
       "      <td>0.047334</td>\n",
       "      <td>0.000676</td>\n",
       "      <td>0.166667</td>\n",
       "      <td>0.636364</td>\n",
       "      <td>0.857143</td>\n",
       "      <td>0.030568</td>\n",
       "      <td>0.0</td>\n",
       "    </tr>\n",
       "    <tr>\n",
       "      <th>273159</th>\n",
       "      <td>0.0</td>\n",
       "      <td>0.5</td>\n",
       "      <td>0.553571</td>\n",
       "      <td>0.245321</td>\n",
       "      <td>0.095238</td>\n",
       "      <td>0.013392</td>\n",
       "      <td>0.923721</td>\n",
       "      <td>0.016260</td>\n",
       "      <td>0.000000</td>\n",
       "      <td>0.211534</td>\n",
       "      <td>0.207364</td>\n",
       "      <td>0.038176</td>\n",
       "      <td>0.166667</td>\n",
       "      <td>0.272727</td>\n",
       "      <td>0.142857</td>\n",
       "      <td>0.052402</td>\n",
       "      <td>0.0</td>\n",
       "    </tr>\n",
       "    <tr>\n",
       "      <th>1347063</th>\n",
       "      <td>1.0</td>\n",
       "      <td>0.0</td>\n",
       "      <td>0.946429</td>\n",
       "      <td>0.324583</td>\n",
       "      <td>0.285714</td>\n",
       "      <td>0.921396</td>\n",
       "      <td>0.157879</td>\n",
       "      <td>0.066519</td>\n",
       "      <td>0.048780</td>\n",
       "      <td>0.101218</td>\n",
       "      <td>0.298066</td>\n",
       "      <td>0.027703</td>\n",
       "      <td>0.833333</td>\n",
       "      <td>0.909091</td>\n",
       "      <td>0.952381</td>\n",
       "      <td>0.034934</td>\n",
       "      <td>0.0</td>\n",
       "    </tr>\n",
       "    <tr>\n",
       "      <th>60354</th>\n",
       "      <td>1.0</td>\n",
       "      <td>0.5</td>\n",
       "      <td>0.678571</td>\n",
       "      <td>0.155370</td>\n",
       "      <td>0.107143</td>\n",
       "      <td>0.940136</td>\n",
       "      <td>0.061960</td>\n",
       "      <td>0.129638</td>\n",
       "      <td>0.097561</td>\n",
       "      <td>0.765443</td>\n",
       "      <td>0.136077</td>\n",
       "      <td>0.083108</td>\n",
       "      <td>0.000000</td>\n",
       "      <td>0.545455</td>\n",
       "      <td>0.714286</td>\n",
       "      <td>0.056769</td>\n",
       "      <td>0.0</td>\n",
       "    </tr>\n",
       "  </tbody>\n",
       "</table>\n",
       "</div>"
      ],
      "text/plain": [
       "         city  transaction_date  year_of_completion  exclusive_use_area  \\\n",
       "584888    0.0               0.5            0.767857            0.396019   \n",
       "315671    1.0               1.0            0.732143            0.051118   \n",
       "273159    0.0               0.5            0.553571            0.245321   \n",
       "1347063   1.0               0.0            0.946429            0.324583   \n",
       "60354     1.0               0.5            0.678571            0.155370   \n",
       "\n",
       "            floor  latitude  longitude  total_household_count_in_sites  \\\n",
       "584888   0.309524  0.049047   0.953618                        0.392166   \n",
       "315671   0.178571  0.926423   0.107975                        0.028677   \n",
       "273159   0.095238  0.013392   0.923721                        0.016260   \n",
       "1347063  0.285714  0.921396   0.157879                        0.066519   \n",
       "60354    0.107143  0.940136   0.061960                        0.129638   \n",
       "\n",
       "         apartment_building_count_in_sites   room_id  supply_area  \\\n",
       "584888                            0.105691  0.195101     0.363923   \n",
       "315671                            0.000000  0.864278     0.047334   \n",
       "273159                            0.000000  0.211534     0.207364   \n",
       "1347063                           0.048780  0.101218     0.298066   \n",
       "60354                             0.097561  0.765443     0.136077   \n",
       "\n",
       "         total_household_count_of_area_type  transaction_year  \\\n",
       "584888                             0.129730          0.416667   \n",
       "315671                             0.000676          0.166667   \n",
       "273159                             0.038176          0.166667   \n",
       "1347063                            0.027703          0.833333   \n",
       "60354                              0.083108          0.000000   \n",
       "\n",
       "         transaction_month  district    street  etc_address  \n",
       "584888            0.090909  0.380952  0.013100          0.0  \n",
       "315671            0.636364  0.857143  0.030568          0.0  \n",
       "273159            0.272727  0.142857  0.052402          0.0  \n",
       "1347063           0.909091  0.952381  0.034934          0.0  \n",
       "60354             0.545455  0.714286  0.056769          0.0  "
      ]
     },
     "execution_count": 19,
     "metadata": {},
     "output_type": "execute_result"
    }
   ],
   "source": [
    "all_Y = all_['transaction_real_price']\n",
    "no_norm_Y = all_['transaction_real_price'][:1601458]\n",
    "all_.drop(['transaction_real_price'], axis=1,inplace=True)\n",
    "no_normalization = all_\n",
    "all_=((all_-all_.min())/(all_.max()-all_.min()))\n",
    "all_.sample(n=5)"
   ]
  },
  {
   "cell_type": "code",
   "execution_count": 20,
   "metadata": {},
   "outputs": [],
   "source": [
    "#train 1601458\n",
    "#test start from 1601458\n",
    "train = all_[:1601458]\n",
    "no_normalization_train = no_normalization[:1601458]"
   ]
  },
  {
   "cell_type": "code",
   "execution_count": 21,
   "metadata": {},
   "outputs": [
    {
     "data": {
      "text/html": [
       "<div>\n",
       "<style>\n",
       "    .dataframe thead tr:only-child th {\n",
       "        text-align: right;\n",
       "    }\n",
       "\n",
       "    .dataframe thead th {\n",
       "        text-align: left;\n",
       "    }\n",
       "\n",
       "    .dataframe tbody tr th {\n",
       "        vertical-align: top;\n",
       "    }\n",
       "</style>\n",
       "<table border=\"1\" class=\"dataframe\">\n",
       "  <thead>\n",
       "    <tr style=\"text-align: right;\">\n",
       "      <th></th>\n",
       "      <th>city</th>\n",
       "      <th>transaction_date</th>\n",
       "      <th>year_of_completion</th>\n",
       "      <th>exclusive_use_area</th>\n",
       "      <th>floor</th>\n",
       "      <th>latitude</th>\n",
       "      <th>longitude</th>\n",
       "      <th>total_household_count_in_sites</th>\n",
       "      <th>apartment_building_count_in_sites</th>\n",
       "      <th>room_id</th>\n",
       "      <th>supply_area</th>\n",
       "      <th>total_household_count_of_area_type</th>\n",
       "      <th>transaction_year</th>\n",
       "      <th>transaction_month</th>\n",
       "      <th>district</th>\n",
       "      <th>street</th>\n",
       "      <th>etc_address</th>\n",
       "    </tr>\n",
       "  </thead>\n",
       "  <tbody>\n",
       "    <tr>\n",
       "      <th>0</th>\n",
       "      <td>1.0</td>\n",
       "      <td>0.5</td>\n",
       "      <td>0.660714</td>\n",
       "      <td>0.111218</td>\n",
       "      <td>0.119048</td>\n",
       "      <td>0.961473</td>\n",
       "      <td>0.101869</td>\n",
       "      <td>0.005469</td>\n",
       "      <td>0.00000</td>\n",
       "      <td>0.473926</td>\n",
       "      <td>0.112894</td>\n",
       "      <td>0.015541</td>\n",
       "      <td>0.0</td>\n",
       "      <td>0.0</td>\n",
       "      <td>0.0</td>\n",
       "      <td>0.305677</td>\n",
       "      <td>0.0</td>\n",
       "    </tr>\n",
       "    <tr>\n",
       "      <th>1</th>\n",
       "      <td>1.0</td>\n",
       "      <td>0.5</td>\n",
       "      <td>0.660714</td>\n",
       "      <td>0.100252</td>\n",
       "      <td>0.142857</td>\n",
       "      <td>0.961473</td>\n",
       "      <td>0.101869</td>\n",
       "      <td>0.005469</td>\n",
       "      <td>0.00000</td>\n",
       "      <td>0.473920</td>\n",
       "      <td>0.102380</td>\n",
       "      <td>0.003378</td>\n",
       "      <td>0.0</td>\n",
       "      <td>0.0</td>\n",
       "      <td>0.0</td>\n",
       "      <td>0.305677</td>\n",
       "      <td>0.0</td>\n",
       "    </tr>\n",
       "    <tr>\n",
       "      <th>2</th>\n",
       "      <td>1.0</td>\n",
       "      <td>0.5</td>\n",
       "      <td>0.535714</td>\n",
       "      <td>0.137272</td>\n",
       "      <td>0.142857</td>\n",
       "      <td>0.959406</td>\n",
       "      <td>0.107402</td>\n",
       "      <td>0.071840</td>\n",
       "      <td>0.03252</td>\n",
       "      <td>0.043784</td>\n",
       "      <td>0.129581</td>\n",
       "      <td>0.067905</td>\n",
       "      <td>0.0</td>\n",
       "      <td>0.0</td>\n",
       "      <td>0.0</td>\n",
       "      <td>0.318777</td>\n",
       "      <td>0.0</td>\n",
       "    </tr>\n",
       "    <tr>\n",
       "      <th>3</th>\n",
       "      <td>1.0</td>\n",
       "      <td>0.5</td>\n",
       "      <td>0.553571</td>\n",
       "      <td>0.172966</td>\n",
       "      <td>0.178571</td>\n",
       "      <td>0.959335</td>\n",
       "      <td>0.106508</td>\n",
       "      <td>0.121212</td>\n",
       "      <td>0.04878</td>\n",
       "      <td>0.030306</td>\n",
       "      <td>0.166625</td>\n",
       "      <td>0.095946</td>\n",
       "      <td>0.0</td>\n",
       "      <td>0.0</td>\n",
       "      <td>0.0</td>\n",
       "      <td>0.318777</td>\n",
       "      <td>0.0</td>\n",
       "    </tr>\n",
       "    <tr>\n",
       "      <th>4</th>\n",
       "      <td>1.0</td>\n",
       "      <td>0.5</td>\n",
       "      <td>0.553571</td>\n",
       "      <td>0.323339</td>\n",
       "      <td>0.130952</td>\n",
       "      <td>0.959335</td>\n",
       "      <td>0.106508</td>\n",
       "      <td>0.121212</td>\n",
       "      <td>0.04878</td>\n",
       "      <td>0.030290</td>\n",
       "      <td>0.266898</td>\n",
       "      <td>0.037838</td>\n",
       "      <td>0.0</td>\n",
       "      <td>0.0</td>\n",
       "      <td>0.0</td>\n",
       "      <td>0.318777</td>\n",
       "      <td>0.0</td>\n",
       "    </tr>\n",
       "  </tbody>\n",
       "</table>\n",
       "</div>"
      ],
      "text/plain": [
       "   city  transaction_date  year_of_completion  exclusive_use_area     floor  \\\n",
       "0   1.0               0.5            0.660714            0.111218  0.119048   \n",
       "1   1.0               0.5            0.660714            0.100252  0.142857   \n",
       "2   1.0               0.5            0.535714            0.137272  0.142857   \n",
       "3   1.0               0.5            0.553571            0.172966  0.178571   \n",
       "4   1.0               0.5            0.553571            0.323339  0.130952   \n",
       "\n",
       "   latitude  longitude  total_household_count_in_sites  \\\n",
       "0  0.961473   0.101869                        0.005469   \n",
       "1  0.961473   0.101869                        0.005469   \n",
       "2  0.959406   0.107402                        0.071840   \n",
       "3  0.959335   0.106508                        0.121212   \n",
       "4  0.959335   0.106508                        0.121212   \n",
       "\n",
       "   apartment_building_count_in_sites   room_id  supply_area  \\\n",
       "0                            0.00000  0.473926     0.112894   \n",
       "1                            0.00000  0.473920     0.102380   \n",
       "2                            0.03252  0.043784     0.129581   \n",
       "3                            0.04878  0.030306     0.166625   \n",
       "4                            0.04878  0.030290     0.266898   \n",
       "\n",
       "   total_household_count_of_area_type  transaction_year  transaction_month  \\\n",
       "0                            0.015541               0.0                0.0   \n",
       "1                            0.003378               0.0                0.0   \n",
       "2                            0.067905               0.0                0.0   \n",
       "3                            0.095946               0.0                0.0   \n",
       "4                            0.037838               0.0                0.0   \n",
       "\n",
       "   district    street  etc_address  \n",
       "0       0.0  0.305677          0.0  \n",
       "1       0.0  0.305677          0.0  \n",
       "2       0.0  0.318777          0.0  \n",
       "3       0.0  0.318777          0.0  \n",
       "4       0.0  0.318777          0.0  "
      ]
     },
     "execution_count": 21,
     "metadata": {},
     "output_type": "execute_result"
    }
   ],
   "source": [
    "train.head()"
   ]
  },
  {
   "cell_type": "code",
   "execution_count": 22,
   "metadata": {},
   "outputs": [],
   "source": [
    "test = all_[1601458:]\n",
    "no_normalization_test = no_normalization[1601458:]"
   ]
  },
  {
   "cell_type": "code",
   "execution_count": 23,
   "metadata": {},
   "outputs": [
    {
     "data": {
      "text/html": [
       "<div>\n",
       "<style>\n",
       "    .dataframe thead tr:only-child th {\n",
       "        text-align: right;\n",
       "    }\n",
       "\n",
       "    .dataframe thead th {\n",
       "        text-align: left;\n",
       "    }\n",
       "\n",
       "    .dataframe tbody tr th {\n",
       "        vertical-align: top;\n",
       "    }\n",
       "</style>\n",
       "<table border=\"1\" class=\"dataframe\">\n",
       "  <thead>\n",
       "    <tr style=\"text-align: right;\">\n",
       "      <th></th>\n",
       "      <th>city</th>\n",
       "      <th>transaction_date</th>\n",
       "      <th>year_of_completion</th>\n",
       "      <th>exclusive_use_area</th>\n",
       "      <th>floor</th>\n",
       "      <th>latitude</th>\n",
       "      <th>longitude</th>\n",
       "      <th>total_household_count_in_sites</th>\n",
       "      <th>apartment_building_count_in_sites</th>\n",
       "      <th>room_id</th>\n",
       "      <th>supply_area</th>\n",
       "      <th>total_household_count_of_area_type</th>\n",
       "      <th>transaction_year</th>\n",
       "      <th>transaction_month</th>\n",
       "      <th>district</th>\n",
       "      <th>street</th>\n",
       "      <th>etc_address</th>\n",
       "    </tr>\n",
       "  </thead>\n",
       "  <tbody>\n",
       "    <tr>\n",
       "      <th>1601458</th>\n",
       "      <td>1.0</td>\n",
       "      <td>1.0</td>\n",
       "      <td>0.392857</td>\n",
       "      <td>0.240770</td>\n",
       "      <td>0.214286</td>\n",
       "      <td>0.936447</td>\n",
       "      <td>0.122857</td>\n",
       "      <td>0.040798</td>\n",
       "      <td>0.02439</td>\n",
       "      <td>0.034514</td>\n",
       "      <td>0.215943</td>\n",
       "      <td>0.000676</td>\n",
       "      <td>0.250000</td>\n",
       "      <td>1.000000</td>\n",
       "      <td>0.904762</td>\n",
       "      <td>0.013100</td>\n",
       "      <td>0.0</td>\n",
       "    </tr>\n",
       "    <tr>\n",
       "      <th>1601459</th>\n",
       "      <td>1.0</td>\n",
       "      <td>0.0</td>\n",
       "      <td>0.107143</td>\n",
       "      <td>0.325311</td>\n",
       "      <td>0.166667</td>\n",
       "      <td>0.956262</td>\n",
       "      <td>0.096816</td>\n",
       "      <td>0.007391</td>\n",
       "      <td>0.00000</td>\n",
       "      <td>0.240175</td>\n",
       "      <td>0.215894</td>\n",
       "      <td>0.003378</td>\n",
       "      <td>0.583333</td>\n",
       "      <td>0.272727</td>\n",
       "      <td>0.000000</td>\n",
       "      <td>0.157205</td>\n",
       "      <td>0.0</td>\n",
       "    </tr>\n",
       "    <tr>\n",
       "      <th>1601460</th>\n",
       "      <td>1.0</td>\n",
       "      <td>1.0</td>\n",
       "      <td>0.107143</td>\n",
       "      <td>0.070865</td>\n",
       "      <td>0.119048</td>\n",
       "      <td>0.955448</td>\n",
       "      <td>0.106047</td>\n",
       "      <td>0.003104</td>\n",
       "      <td>0.02439</td>\n",
       "      <td>0.236825</td>\n",
       "      <td>0.048500</td>\n",
       "      <td>0.019595</td>\n",
       "      <td>0.583333</td>\n",
       "      <td>0.727273</td>\n",
       "      <td>0.000000</td>\n",
       "      <td>0.318777</td>\n",
       "      <td>0.0</td>\n",
       "    </tr>\n",
       "    <tr>\n",
       "      <th>1601461</th>\n",
       "      <td>1.0</td>\n",
       "      <td>0.0</td>\n",
       "      <td>0.803571</td>\n",
       "      <td>0.104910</td>\n",
       "      <td>0.142857</td>\n",
       "      <td>0.950473</td>\n",
       "      <td>0.045277</td>\n",
       "      <td>0.047302</td>\n",
       "      <td>0.00000</td>\n",
       "      <td>0.099127</td>\n",
       "      <td>0.166154</td>\n",
       "      <td>0.000338</td>\n",
       "      <td>0.583333</td>\n",
       "      <td>1.000000</td>\n",
       "      <td>0.619048</td>\n",
       "      <td>0.004367</td>\n",
       "      <td>0.0</td>\n",
       "    </tr>\n",
       "    <tr>\n",
       "      <th>1601462</th>\n",
       "      <td>1.0</td>\n",
       "      <td>0.0</td>\n",
       "      <td>0.464286</td>\n",
       "      <td>0.091221</td>\n",
       "      <td>0.095238</td>\n",
       "      <td>0.986594</td>\n",
       "      <td>0.134694</td>\n",
       "      <td>0.016408</td>\n",
       "      <td>0.00813</td>\n",
       "      <td>0.003594</td>\n",
       "      <td>0.090751</td>\n",
       "      <td>0.030405</td>\n",
       "      <td>0.666667</td>\n",
       "      <td>0.000000</td>\n",
       "      <td>0.380952</td>\n",
       "      <td>0.021834</td>\n",
       "      <td>0.0</td>\n",
       "    </tr>\n",
       "  </tbody>\n",
       "</table>\n",
       "</div>"
      ],
      "text/plain": [
       "         city  transaction_date  year_of_completion  exclusive_use_area  \\\n",
       "1601458   1.0               1.0            0.392857            0.240770   \n",
       "1601459   1.0               0.0            0.107143            0.325311   \n",
       "1601460   1.0               1.0            0.107143            0.070865   \n",
       "1601461   1.0               0.0            0.803571            0.104910   \n",
       "1601462   1.0               0.0            0.464286            0.091221   \n",
       "\n",
       "            floor  latitude  longitude  total_household_count_in_sites  \\\n",
       "1601458  0.214286  0.936447   0.122857                        0.040798   \n",
       "1601459  0.166667  0.956262   0.096816                        0.007391   \n",
       "1601460  0.119048  0.955448   0.106047                        0.003104   \n",
       "1601461  0.142857  0.950473   0.045277                        0.047302   \n",
       "1601462  0.095238  0.986594   0.134694                        0.016408   \n",
       "\n",
       "         apartment_building_count_in_sites   room_id  supply_area  \\\n",
       "1601458                            0.02439  0.034514     0.215943   \n",
       "1601459                            0.00000  0.240175     0.215894   \n",
       "1601460                            0.02439  0.236825     0.048500   \n",
       "1601461                            0.00000  0.099127     0.166154   \n",
       "1601462                            0.00813  0.003594     0.090751   \n",
       "\n",
       "         total_household_count_of_area_type  transaction_year  \\\n",
       "1601458                            0.000676          0.250000   \n",
       "1601459                            0.003378          0.583333   \n",
       "1601460                            0.019595          0.583333   \n",
       "1601461                            0.000338          0.583333   \n",
       "1601462                            0.030405          0.666667   \n",
       "\n",
       "         transaction_month  district    street  etc_address  \n",
       "1601458           1.000000  0.904762  0.013100          0.0  \n",
       "1601459           0.272727  0.000000  0.157205          0.0  \n",
       "1601460           0.727273  0.000000  0.318777          0.0  \n",
       "1601461           1.000000  0.619048  0.004367          0.0  \n",
       "1601462           0.000000  0.380952  0.021834          0.0  "
      ]
     },
     "execution_count": 23,
     "metadata": {},
     "output_type": "execute_result"
    }
   ],
   "source": [
    "test.head()"
   ]
  },
  {
   "cell_type": "code",
   "execution_count": 24,
   "metadata": {},
   "outputs": [
    {
     "name": "stdout",
     "output_type": "stream",
     "text": [
      "7000000 8200000000\n"
     ]
    },
    {
     "data": {
      "text/plain": [
       "0    0.025388\n",
       "1    0.023557\n",
       "2    0.019651\n",
       "3    0.019285\n",
       "4    0.033321\n",
       "Name: transaction_real_price, dtype: float64"
      ]
     },
     "execution_count": 24,
     "metadata": {},
     "output_type": "execute_result"
    }
   ],
   "source": [
    "print(all_Y[:1601458].min(),all_Y[:1601458].max())\n",
    "Y=((all_Y[:1601458]-all_Y[:1601458].min())/(all_Y[:1601458].max()-all_Y[:1601458].min()))\n",
    "Y.head()"
   ]
  },
  {
   "cell_type": "code",
   "execution_count": 25,
   "metadata": {},
   "outputs": [
    {
     "data": {
      "text/html": [
       "<div>\n",
       "<style>\n",
       "    .dataframe thead tr:only-child th {\n",
       "        text-align: right;\n",
       "    }\n",
       "\n",
       "    .dataframe thead th {\n",
       "        text-align: left;\n",
       "    }\n",
       "\n",
       "    .dataframe tbody tr th {\n",
       "        vertical-align: top;\n",
       "    }\n",
       "</style>\n",
       "<table border=\"1\" class=\"dataframe\">\n",
       "  <thead>\n",
       "    <tr style=\"text-align: right;\">\n",
       "      <th></th>\n",
       "      <th>city</th>\n",
       "      <th>transaction_date</th>\n",
       "      <th>year_of_completion</th>\n",
       "      <th>exclusive_use_area</th>\n",
       "      <th>floor</th>\n",
       "      <th>latitude</th>\n",
       "      <th>longitude</th>\n",
       "      <th>total_household_count_in_sites</th>\n",
       "      <th>apartment_building_count_in_sites</th>\n",
       "      <th>room_id</th>\n",
       "      <th>supply_area</th>\n",
       "      <th>total_household_count_of_area_type</th>\n",
       "      <th>transaction_year</th>\n",
       "      <th>transaction_month</th>\n",
       "      <th>district</th>\n",
       "      <th>street</th>\n",
       "      <th>etc_address</th>\n",
       "    </tr>\n",
       "  </thead>\n",
       "  <tbody>\n",
       "    <tr>\n",
       "      <th>0</th>\n",
       "      <td>1.0</td>\n",
       "      <td>0.5</td>\n",
       "      <td>0.660714</td>\n",
       "      <td>0.111218</td>\n",
       "      <td>0.119048</td>\n",
       "      <td>0.961473</td>\n",
       "      <td>0.101869</td>\n",
       "      <td>0.005469</td>\n",
       "      <td>0.00000</td>\n",
       "      <td>0.473926</td>\n",
       "      <td>0.112894</td>\n",
       "      <td>0.015541</td>\n",
       "      <td>0.0</td>\n",
       "      <td>0.0</td>\n",
       "      <td>0.0</td>\n",
       "      <td>0.305677</td>\n",
       "      <td>0.0</td>\n",
       "    </tr>\n",
       "    <tr>\n",
       "      <th>1</th>\n",
       "      <td>1.0</td>\n",
       "      <td>0.5</td>\n",
       "      <td>0.660714</td>\n",
       "      <td>0.100252</td>\n",
       "      <td>0.142857</td>\n",
       "      <td>0.961473</td>\n",
       "      <td>0.101869</td>\n",
       "      <td>0.005469</td>\n",
       "      <td>0.00000</td>\n",
       "      <td>0.473920</td>\n",
       "      <td>0.102380</td>\n",
       "      <td>0.003378</td>\n",
       "      <td>0.0</td>\n",
       "      <td>0.0</td>\n",
       "      <td>0.0</td>\n",
       "      <td>0.305677</td>\n",
       "      <td>0.0</td>\n",
       "    </tr>\n",
       "    <tr>\n",
       "      <th>2</th>\n",
       "      <td>1.0</td>\n",
       "      <td>0.5</td>\n",
       "      <td>0.535714</td>\n",
       "      <td>0.137272</td>\n",
       "      <td>0.142857</td>\n",
       "      <td>0.959406</td>\n",
       "      <td>0.107402</td>\n",
       "      <td>0.071840</td>\n",
       "      <td>0.03252</td>\n",
       "      <td>0.043784</td>\n",
       "      <td>0.129581</td>\n",
       "      <td>0.067905</td>\n",
       "      <td>0.0</td>\n",
       "      <td>0.0</td>\n",
       "      <td>0.0</td>\n",
       "      <td>0.318777</td>\n",
       "      <td>0.0</td>\n",
       "    </tr>\n",
       "    <tr>\n",
       "      <th>3</th>\n",
       "      <td>1.0</td>\n",
       "      <td>0.5</td>\n",
       "      <td>0.553571</td>\n",
       "      <td>0.172966</td>\n",
       "      <td>0.178571</td>\n",
       "      <td>0.959335</td>\n",
       "      <td>0.106508</td>\n",
       "      <td>0.121212</td>\n",
       "      <td>0.04878</td>\n",
       "      <td>0.030306</td>\n",
       "      <td>0.166625</td>\n",
       "      <td>0.095946</td>\n",
       "      <td>0.0</td>\n",
       "      <td>0.0</td>\n",
       "      <td>0.0</td>\n",
       "      <td>0.318777</td>\n",
       "      <td>0.0</td>\n",
       "    </tr>\n",
       "    <tr>\n",
       "      <th>4</th>\n",
       "      <td>1.0</td>\n",
       "      <td>0.5</td>\n",
       "      <td>0.553571</td>\n",
       "      <td>0.323339</td>\n",
       "      <td>0.130952</td>\n",
       "      <td>0.959335</td>\n",
       "      <td>0.106508</td>\n",
       "      <td>0.121212</td>\n",
       "      <td>0.04878</td>\n",
       "      <td>0.030290</td>\n",
       "      <td>0.266898</td>\n",
       "      <td>0.037838</td>\n",
       "      <td>0.0</td>\n",
       "      <td>0.0</td>\n",
       "      <td>0.0</td>\n",
       "      <td>0.318777</td>\n",
       "      <td>0.0</td>\n",
       "    </tr>\n",
       "  </tbody>\n",
       "</table>\n",
       "</div>"
      ],
      "text/plain": [
       "   city  transaction_date  year_of_completion  exclusive_use_area     floor  \\\n",
       "0   1.0               0.5            0.660714            0.111218  0.119048   \n",
       "1   1.0               0.5            0.660714            0.100252  0.142857   \n",
       "2   1.0               0.5            0.535714            0.137272  0.142857   \n",
       "3   1.0               0.5            0.553571            0.172966  0.178571   \n",
       "4   1.0               0.5            0.553571            0.323339  0.130952   \n",
       "\n",
       "   latitude  longitude  total_household_count_in_sites  \\\n",
       "0  0.961473   0.101869                        0.005469   \n",
       "1  0.961473   0.101869                        0.005469   \n",
       "2  0.959406   0.107402                        0.071840   \n",
       "3  0.959335   0.106508                        0.121212   \n",
       "4  0.959335   0.106508                        0.121212   \n",
       "\n",
       "   apartment_building_count_in_sites   room_id  supply_area  \\\n",
       "0                            0.00000  0.473926     0.112894   \n",
       "1                            0.00000  0.473920     0.102380   \n",
       "2                            0.03252  0.043784     0.129581   \n",
       "3                            0.04878  0.030306     0.166625   \n",
       "4                            0.04878  0.030290     0.266898   \n",
       "\n",
       "   total_household_count_of_area_type  transaction_year  transaction_month  \\\n",
       "0                            0.015541               0.0                0.0   \n",
       "1                            0.003378               0.0                0.0   \n",
       "2                            0.067905               0.0                0.0   \n",
       "3                            0.095946               0.0                0.0   \n",
       "4                            0.037838               0.0                0.0   \n",
       "\n",
       "   district    street  etc_address  \n",
       "0       0.0  0.305677          0.0  \n",
       "1       0.0  0.305677          0.0  \n",
       "2       0.0  0.318777          0.0  \n",
       "3       0.0  0.318777          0.0  \n",
       "4       0.0  0.318777          0.0  "
      ]
     },
     "execution_count": 25,
     "metadata": {},
     "output_type": "execute_result"
    }
   ],
   "source": [
    "train.head()"
   ]
  },
  {
   "cell_type": "code",
   "execution_count": 26,
   "metadata": {},
   "outputs": [],
   "source": [
    "X = np.asarray(train.values)\n",
    "X = X.astype(np.float64) \n",
    "Y = Y.astype(np.float64) "
   ]
  },
  {
   "cell_type": "code",
   "execution_count": 27,
   "metadata": {},
   "outputs": [
    {
     "data": {
      "text/plain": [
       "(array([ 1.        ,  0.5       ,  0.66071429,  0.11121783,  0.11904762,\n",
       "         0.96147258,  0.1018687 ,  0.00546933,  0.        ,  0.47392569,\n",
       "         0.11289363,  0.01554054,  0.        ,  0.        ,  0.        ,\n",
       "         0.30567686,  0.        ]), 0.025387525936775297)"
      ]
     },
     "execution_count": 27,
     "metadata": {},
     "output_type": "execute_result"
    }
   ],
   "source": [
    "X[0],Y[0]"
   ]
  },
  {
   "cell_type": "code",
   "execution_count": 28,
   "metadata": {},
   "outputs": [],
   "source": [
    "no_norm_X = (no_normalization_train.values).astype(np.float64) \n",
    "no_norm_Y = no_norm_Y.astype(np.float64) "
   ]
  },
  {
   "cell_type": "code",
   "execution_count": 29,
   "metadata": {},
   "outputs": [
    {
     "data": {
      "text/plain": [
       "(array([  1.00000000e+00,   1.00000000e+00,   1.99900000e+03,\n",
       "          4.74300000e+01,   6.00000000e+00,   3.75859651e+01,\n",
       "          1.27000231e+02,   1.36000000e+02,   1.00000000e+00,\n",
       "          9.11200000e+04,   6.56300000e+01,   4.60000000e+01,\n",
       "          2.00600000e+03,   1.00000000e+00,   1.10000000e+02,\n",
       "          1.71000000e+02,   0.00000000e+00]), 215000000.0)"
      ]
     },
     "execution_count": 29,
     "metadata": {},
     "output_type": "execute_result"
    }
   ],
   "source": [
    "no_norm_X[0],no_norm_Y[0]"
   ]
  },
  {
   "cell_type": "markdown",
   "metadata": {},
   "source": [
    "### DNN Model"
   ]
  },
  {
   "cell_type": "code",
   "execution_count": 31,
   "metadata": {},
   "outputs": [
    {
     "name": "stderr",
     "output_type": "stream",
     "text": [
      "Using TensorFlow backend.\n"
     ]
    }
   ],
   "source": [
    "from keras.models import Sequential\n",
    "from keras.layers import Dense,Dropout,Activation\n",
    "from keras.layers.normalization import BatchNormalization"
   ]
  },
  {
   "cell_type": "code",
   "execution_count": 32,
   "metadata": {},
   "outputs": [
    {
     "name": "stderr",
     "output_type": "stream",
     "text": [
      "/Library/Frameworks/Python.framework/Versions/3.6/lib/python3.6/site-packages/ipykernel_launcher.py:8: UserWarning: Update your `Dense` call to the Keras 2 API: `Dense(200, kernel_initializer=\"random_normal\")`\n",
      "  \n",
      "/Library/Frameworks/Python.framework/Versions/3.6/lib/python3.6/site-packages/ipykernel_launcher.py:13: UserWarning: Update your `Dense` call to the Keras 2 API: `Dense(1, activation=\"sigmoid\", kernel_initializer=\"random_normal\")`\n",
      "  del sys.path[0]\n"
     ]
    }
   ],
   "source": [
    "model = Sequential()\n",
    "\n",
    "model.add(Dense(200, input_shape=(17,),activation='sigmoid'))\n",
    "model.add(BatchNormalization())\n",
    "model.add(Activation('sigmoid'))\n",
    "model.add(Dropout(0.3))\n",
    "\n",
    "model.add(Dense(200,init='random_normal'))\n",
    "model.add(BatchNormalization())\n",
    "model.add(Activation('sigmoid'))\n",
    "model.add(Dropout(0.3))\n",
    "\n",
    "model.add(Dense(1,init='random_normal', activation='sigmoid'))"
   ]
  },
  {
   "cell_type": "code",
   "execution_count": 33,
   "metadata": {},
   "outputs": [],
   "source": [
    "from keras import backend as K\n",
    "def root_mean_squared_error(y_true, y_pred):\n",
    "        return K.sqrt(K.mean(K.square(y_pred - y_true), axis=-1)) \n",
    "\n",
    "model.compile(optimizer = \"rmsprop\", loss = root_mean_squared_error, \n",
    "              metrics =[\"mse\"])"
   ]
  },
  {
   "cell_type": "code",
   "execution_count": 36,
   "metadata": {},
   "outputs": [
    {
     "name": "stdout",
     "output_type": "stream",
     "text": [
      "Epoch 1/100\n",
      "1601458/1601458 [==============================] - 1371s 856us/step - loss: 0.0164 - mean_squared_error: 7.3982e-04\n",
      "Epoch 2/100\n"
     ]
    },
    {
     "name": "stderr",
     "output_type": "stream",
     "text": [
      "/Library/Frameworks/Python.framework/Versions/3.6/lib/python3.6/site-packages/keras/callbacks.py:569: RuntimeWarning: Early stopping conditioned on metric `val_loss` which is not available. Available metrics are: loss,mean_squared_error\n",
      "  (self.monitor, ','.join(list(logs.keys()))), RuntimeWarning\n"
     ]
    },
    {
     "name": "stdout",
     "output_type": "stream",
     "text": [
      "1601458/1601458 [==============================] - 1292s 807us/step - loss: 0.0141 - mean_squared_error: 5.8283e-04\n",
      "Epoch 3/100\n",
      "1601458/1601458 [==============================] - 1318s 823us/step - loss: 0.0131 - mean_squared_error: 5.2877e-04\n",
      "Epoch 4/100\n",
      "1601458/1601458 [==============================] - 1239s 774us/step - loss: 0.0127 - mean_squared_error: 4.9597e-04\n",
      "Epoch 5/100\n",
      "1601458/1601458 [==============================] - 1233s 770us/step - loss: 0.0124 - mean_squared_error: 4.7653e-04\n",
      "Epoch 6/100\n",
      "1601458/1601458 [==============================] - 1229s 767us/step - loss: 0.0121 - mean_squared_error: 4.5793e-04\n",
      "Epoch 7/100\n",
      "1601458/1601458 [==============================] - 1228s 767us/step - loss: 0.0119 - mean_squared_error: 4.4314e-04\n",
      "Epoch 8/100\n",
      "1601458/1601458 [==============================] - 1231s 769us/step - loss: 0.0118 - mean_squared_error: 4.2961e-04\n",
      "Epoch 9/100\n",
      "1601458/1601458 [==============================] - 1229s 768us/step - loss: 0.0116 - mean_squared_error: 4.2018e-04\n",
      "Epoch 10/100\n",
      "1601458/1601458 [==============================] - 1229s 767us/step - loss: 0.0115 - mean_squared_error: 4.1323e-04\n",
      "Epoch 11/100\n",
      "1601458/1601458 [==============================] - 1230s 768us/step - loss: 0.0114 - mean_squared_error: 4.0373e-04\n",
      "Epoch 12/100\n",
      "1601458/1601458 [==============================] - 1229s 768us/step - loss: 0.0113 - mean_squared_error: 3.9792e-04\n",
      "Epoch 13/100\n",
      "1601458/1601458 [==============================] - 1229s 767us/step - loss: nan - mean_squared_error: nan\n",
      "Epoch 14/100\n",
      "1601458/1601458 [==============================] - 1230s 768us/step - loss: nan - mean_squared_error: nan\n",
      "Epoch 15/100\n",
      "1601458/1601458 [==============================] - 1231s 769us/step - loss: nan - mean_squared_error: nan\n",
      "Epoch 16/100\n",
      "1601458/1601458 [==============================] - 1229s 768us/step - loss: nan - mean_squared_error: nan\n",
      "Epoch 17/100\n",
      "1601458/1601458 [==============================] - 1229s 767us/step - loss: nan - mean_squared_error: nan\n",
      "Epoch 18/100\n",
      "1601458/1601458 [==============================] - 1229s 767us/step - loss: nan - mean_squared_error: nan\n",
      "Epoch 19/100\n",
      "1601458/1601458 [==============================] - 1227s 766us/step - loss: nan - mean_squared_error: nan\n",
      "Epoch 20/100\n",
      "1601458/1601458 [==============================] - ETA: 0s - loss: nan - mean_squared_error: n - 1230s 768us/step - loss: nan - mean_squared_error: nan\n",
      "Epoch 21/100\n",
      "1601458/1601458 [==============================] - 1229s 768us/step - loss: nan - mean_squared_error: nan\n",
      "Epoch 22/100\n",
      "1601458/1601458 [==============================] - 1231s 768us/step - loss: nan - mean_squared_error: nan\n",
      "Epoch 23/100\n",
      "1601458/1601458 [==============================] - 1231s 769us/step - loss: nan - mean_squared_error: nan\n",
      "Epoch 24/100\n",
      "1601458/1601458 [==============================] - 1230s 768us/step - loss: nan - mean_squared_error: nan\n",
      "Epoch 25/100\n",
      "1601458/1601458 [==============================] - 1231s 769us/step - loss: nan - mean_squared_error: nan\n",
      "Epoch 26/100\n",
      "1601458/1601458 [==============================] - 1233s 770us/step - loss: nan - mean_squared_error: nan\n",
      "Epoch 27/100\n",
      "1601458/1601458 [==============================] - 1232s 769us/step - loss: nan - mean_squared_error: nan\n",
      "Epoch 28/100\n",
      " 441560/1601458 [=======>......................] - ETA: 15:00 - loss: nan - mean_squared_error: nan"
     ]
    },
    {
     "ename": "KeyboardInterrupt",
     "evalue": "",
     "output_type": "error",
     "traceback": [
      "\u001b[0;31m---------------------------------------------------------------------------\u001b[0m",
      "\u001b[0;31mKeyboardInterrupt\u001b[0m                         Traceback (most recent call last)",
      "\u001b[0;32m<ipython-input-36-c8ddd7cbcd8a>\u001b[0m in \u001b[0;36m<module>\u001b[0;34m()\u001b[0m\n\u001b[1;32m      2\u001b[0m \u001b[0;32mfrom\u001b[0m \u001b[0mkeras\u001b[0m\u001b[0;34m.\u001b[0m\u001b[0mcallbacks\u001b[0m \u001b[0;32mimport\u001b[0m \u001b[0mEarlyStopping\u001b[0m\u001b[0;34m\u001b[0m\u001b[0m\n\u001b[1;32m      3\u001b[0m \u001b[0mearly_stopping\u001b[0m \u001b[0;34m=\u001b[0m \u001b[0mEarlyStopping\u001b[0m\u001b[0;34m(\u001b[0m\u001b[0;34m)\u001b[0m\u001b[0;34m\u001b[0m\u001b[0m\n\u001b[0;32m----> 4\u001b[0;31m \u001b[0mhist\u001b[0m \u001b[0;34m=\u001b[0m \u001b[0mmodel\u001b[0m\u001b[0;34m.\u001b[0m\u001b[0mfit\u001b[0m\u001b[0;34m(\u001b[0m\u001b[0mX\u001b[0m\u001b[0;34m,\u001b[0m \u001b[0mY\u001b[0m\u001b[0;34m,\u001b[0m \u001b[0mbatch_size\u001b[0m \u001b[0;34m=\u001b[0m \u001b[0;36m4\u001b[0m\u001b[0;34m,\u001b[0m \u001b[0mepochs\u001b[0m \u001b[0;34m=\u001b[0m \u001b[0;36m100\u001b[0m\u001b[0;34m,\u001b[0m\u001b[0mcallbacks\u001b[0m\u001b[0;34m=\u001b[0m\u001b[0;34m[\u001b[0m\u001b[0mearly_stopping\u001b[0m\u001b[0;34m]\u001b[0m\u001b[0;34m)\u001b[0m\u001b[0;34m\u001b[0m\u001b[0m\n\u001b[0m",
      "\u001b[0;32m/Library/Frameworks/Python.framework/Versions/3.6/lib/python3.6/site-packages/keras/engine/training.py\u001b[0m in \u001b[0;36mfit\u001b[0;34m(self, x, y, batch_size, epochs, verbose, callbacks, validation_split, validation_data, shuffle, class_weight, sample_weight, initial_epoch, steps_per_epoch, validation_steps, **kwargs)\u001b[0m\n\u001b[1;32m   1037\u001b[0m                                         \u001b[0minitial_epoch\u001b[0m\u001b[0;34m=\u001b[0m\u001b[0minitial_epoch\u001b[0m\u001b[0;34m,\u001b[0m\u001b[0;34m\u001b[0m\u001b[0m\n\u001b[1;32m   1038\u001b[0m                                         \u001b[0msteps_per_epoch\u001b[0m\u001b[0;34m=\u001b[0m\u001b[0msteps_per_epoch\u001b[0m\u001b[0;34m,\u001b[0m\u001b[0;34m\u001b[0m\u001b[0m\n\u001b[0;32m-> 1039\u001b[0;31m                                         validation_steps=validation_steps)\n\u001b[0m\u001b[1;32m   1040\u001b[0m \u001b[0;34m\u001b[0m\u001b[0m\n\u001b[1;32m   1041\u001b[0m     def evaluate(self, x=None, y=None,\n",
      "\u001b[0;32m/Library/Frameworks/Python.framework/Versions/3.6/lib/python3.6/site-packages/keras/engine/training_arrays.py\u001b[0m in \u001b[0;36mfit_loop\u001b[0;34m(model, f, ins, out_labels, batch_size, epochs, verbose, callbacks, val_f, val_ins, shuffle, callback_metrics, initial_epoch, steps_per_epoch, validation_steps)\u001b[0m\n\u001b[1;32m    197\u001b[0m                     \u001b[0mins_batch\u001b[0m\u001b[0;34m[\u001b[0m\u001b[0mi\u001b[0m\u001b[0;34m]\u001b[0m \u001b[0;34m=\u001b[0m \u001b[0mins_batch\u001b[0m\u001b[0;34m[\u001b[0m\u001b[0mi\u001b[0m\u001b[0;34m]\u001b[0m\u001b[0;34m.\u001b[0m\u001b[0mtoarray\u001b[0m\u001b[0;34m(\u001b[0m\u001b[0;34m)\u001b[0m\u001b[0;34m\u001b[0m\u001b[0m\n\u001b[1;32m    198\u001b[0m \u001b[0;34m\u001b[0m\u001b[0m\n\u001b[0;32m--> 199\u001b[0;31m                 \u001b[0mouts\u001b[0m \u001b[0;34m=\u001b[0m \u001b[0mf\u001b[0m\u001b[0;34m(\u001b[0m\u001b[0mins_batch\u001b[0m\u001b[0;34m)\u001b[0m\u001b[0;34m\u001b[0m\u001b[0m\n\u001b[0m\u001b[1;32m    200\u001b[0m                 \u001b[0mouts\u001b[0m \u001b[0;34m=\u001b[0m \u001b[0mto_list\u001b[0m\u001b[0;34m(\u001b[0m\u001b[0mouts\u001b[0m\u001b[0;34m)\u001b[0m\u001b[0;34m\u001b[0m\u001b[0m\n\u001b[1;32m    201\u001b[0m                 \u001b[0;32mfor\u001b[0m \u001b[0ml\u001b[0m\u001b[0;34m,\u001b[0m \u001b[0mo\u001b[0m \u001b[0;32min\u001b[0m \u001b[0mzip\u001b[0m\u001b[0;34m(\u001b[0m\u001b[0mout_labels\u001b[0m\u001b[0;34m,\u001b[0m \u001b[0mouts\u001b[0m\u001b[0;34m)\u001b[0m\u001b[0;34m:\u001b[0m\u001b[0;34m\u001b[0m\u001b[0m\n",
      "\u001b[0;32m/Library/Frameworks/Python.framework/Versions/3.6/lib/python3.6/site-packages/keras/backend/tensorflow_backend.py\u001b[0m in \u001b[0;36m__call__\u001b[0;34m(self, inputs)\u001b[0m\n\u001b[1;32m   2719\u001b[0m                     \u001b[0;34m'In order to feed symbolic tensors to a Keras model '\u001b[0m\u001b[0;34m\u001b[0m\u001b[0m\n\u001b[1;32m   2720\u001b[0m                     'in TensorFlow, you need tensorflow 1.8 or higher.')\n\u001b[0;32m-> 2721\u001b[0;31m             \u001b[0;32mreturn\u001b[0m \u001b[0mself\u001b[0m\u001b[0;34m.\u001b[0m\u001b[0m_legacy_call\u001b[0m\u001b[0;34m(\u001b[0m\u001b[0minputs\u001b[0m\u001b[0;34m)\u001b[0m\u001b[0;34m\u001b[0m\u001b[0m\n\u001b[0m\u001b[1;32m   2722\u001b[0m \u001b[0;34m\u001b[0m\u001b[0m\n\u001b[1;32m   2723\u001b[0m \u001b[0;34m\u001b[0m\u001b[0m\n",
      "\u001b[0;32m/Library/Frameworks/Python.framework/Versions/3.6/lib/python3.6/site-packages/keras/backend/tensorflow_backend.py\u001b[0m in \u001b[0;36m_legacy_call\u001b[0;34m(self, inputs)\u001b[0m\n\u001b[1;32m   2691\u001b[0m         \u001b[0msession\u001b[0m \u001b[0;34m=\u001b[0m \u001b[0mget_session\u001b[0m\u001b[0;34m(\u001b[0m\u001b[0;34m)\u001b[0m\u001b[0;34m\u001b[0m\u001b[0m\n\u001b[1;32m   2692\u001b[0m         updated = session.run(fetches=fetches, feed_dict=feed_dict,\n\u001b[0;32m-> 2693\u001b[0;31m                               **self.session_kwargs)\n\u001b[0m\u001b[1;32m   2694\u001b[0m         \u001b[0;32mreturn\u001b[0m \u001b[0mupdated\u001b[0m\u001b[0;34m[\u001b[0m\u001b[0;34m:\u001b[0m\u001b[0mlen\u001b[0m\u001b[0;34m(\u001b[0m\u001b[0mself\u001b[0m\u001b[0;34m.\u001b[0m\u001b[0moutputs\u001b[0m\u001b[0;34m)\u001b[0m\u001b[0;34m]\u001b[0m\u001b[0;34m\u001b[0m\u001b[0m\n\u001b[1;32m   2695\u001b[0m \u001b[0;34m\u001b[0m\u001b[0m\n",
      "\u001b[0;32m/Library/Frameworks/Python.framework/Versions/3.6/lib/python3.6/site-packages/tensorflow/python/client/session.py\u001b[0m in \u001b[0;36mrun\u001b[0;34m(self, fetches, feed_dict, options, run_metadata)\u001b[0m\n\u001b[1;32m    776\u001b[0m     \u001b[0;32mtry\u001b[0m\u001b[0;34m:\u001b[0m\u001b[0;34m\u001b[0m\u001b[0m\n\u001b[1;32m    777\u001b[0m       result = self._run(None, fetches, feed_dict, options_ptr,\n\u001b[0;32m--> 778\u001b[0;31m                          run_metadata_ptr)\n\u001b[0m\u001b[1;32m    779\u001b[0m       \u001b[0;32mif\u001b[0m \u001b[0mrun_metadata\u001b[0m\u001b[0;34m:\u001b[0m\u001b[0;34m\u001b[0m\u001b[0m\n\u001b[1;32m    780\u001b[0m         \u001b[0mproto_data\u001b[0m \u001b[0;34m=\u001b[0m \u001b[0mtf_session\u001b[0m\u001b[0;34m.\u001b[0m\u001b[0mTF_GetBuffer\u001b[0m\u001b[0;34m(\u001b[0m\u001b[0mrun_metadata_ptr\u001b[0m\u001b[0;34m)\u001b[0m\u001b[0;34m\u001b[0m\u001b[0m\n",
      "\u001b[0;32m/Library/Frameworks/Python.framework/Versions/3.6/lib/python3.6/site-packages/tensorflow/python/client/session.py\u001b[0m in \u001b[0;36m_run\u001b[0;34m(self, handle, fetches, feed_dict, options, run_metadata)\u001b[0m\n\u001b[1;32m    980\u001b[0m     \u001b[0;32mif\u001b[0m \u001b[0mfinal_fetches\u001b[0m \u001b[0;32mor\u001b[0m \u001b[0mfinal_targets\u001b[0m\u001b[0;34m:\u001b[0m\u001b[0;34m\u001b[0m\u001b[0m\n\u001b[1;32m    981\u001b[0m       results = self._do_run(handle, final_targets, final_fetches,\n\u001b[0;32m--> 982\u001b[0;31m                              feed_dict_string, options, run_metadata)\n\u001b[0m\u001b[1;32m    983\u001b[0m     \u001b[0;32melse\u001b[0m\u001b[0;34m:\u001b[0m\u001b[0;34m\u001b[0m\u001b[0m\n\u001b[1;32m    984\u001b[0m       \u001b[0mresults\u001b[0m \u001b[0;34m=\u001b[0m \u001b[0;34m[\u001b[0m\u001b[0;34m]\u001b[0m\u001b[0;34m\u001b[0m\u001b[0m\n",
      "\u001b[0;32m/Library/Frameworks/Python.framework/Versions/3.6/lib/python3.6/site-packages/tensorflow/python/client/session.py\u001b[0m in \u001b[0;36m_do_run\u001b[0;34m(self, handle, target_list, fetch_list, feed_dict, options, run_metadata)\u001b[0m\n\u001b[1;32m   1030\u001b[0m     \u001b[0;32mif\u001b[0m \u001b[0mhandle\u001b[0m \u001b[0;32mis\u001b[0m \u001b[0;32mNone\u001b[0m\u001b[0;34m:\u001b[0m\u001b[0;34m\u001b[0m\u001b[0m\n\u001b[1;32m   1031\u001b[0m       return self._do_call(_run_fn, self._session, feed_dict, fetch_list,\n\u001b[0;32m-> 1032\u001b[0;31m                            target_list, options, run_metadata)\n\u001b[0m\u001b[1;32m   1033\u001b[0m     \u001b[0;32melse\u001b[0m\u001b[0;34m:\u001b[0m\u001b[0;34m\u001b[0m\u001b[0m\n\u001b[1;32m   1034\u001b[0m       return self._do_call(_prun_fn, self._session, handle, feed_dict,\n",
      "\u001b[0;32m/Library/Frameworks/Python.framework/Versions/3.6/lib/python3.6/site-packages/tensorflow/python/client/session.py\u001b[0m in \u001b[0;36m_do_call\u001b[0;34m(self, fn, *args)\u001b[0m\n\u001b[1;32m   1037\u001b[0m   \u001b[0;32mdef\u001b[0m \u001b[0m_do_call\u001b[0m\u001b[0;34m(\u001b[0m\u001b[0mself\u001b[0m\u001b[0;34m,\u001b[0m \u001b[0mfn\u001b[0m\u001b[0;34m,\u001b[0m \u001b[0;34m*\u001b[0m\u001b[0margs\u001b[0m\u001b[0;34m)\u001b[0m\u001b[0;34m:\u001b[0m\u001b[0;34m\u001b[0m\u001b[0m\n\u001b[1;32m   1038\u001b[0m     \u001b[0;32mtry\u001b[0m\u001b[0;34m:\u001b[0m\u001b[0;34m\u001b[0m\u001b[0m\n\u001b[0;32m-> 1039\u001b[0;31m       \u001b[0;32mreturn\u001b[0m \u001b[0mfn\u001b[0m\u001b[0;34m(\u001b[0m\u001b[0;34m*\u001b[0m\u001b[0margs\u001b[0m\u001b[0;34m)\u001b[0m\u001b[0;34m\u001b[0m\u001b[0m\n\u001b[0m\u001b[1;32m   1040\u001b[0m     \u001b[0;32mexcept\u001b[0m \u001b[0merrors\u001b[0m\u001b[0;34m.\u001b[0m\u001b[0mOpError\u001b[0m \u001b[0;32mas\u001b[0m \u001b[0me\u001b[0m\u001b[0;34m:\u001b[0m\u001b[0;34m\u001b[0m\u001b[0m\n\u001b[1;32m   1041\u001b[0m       \u001b[0mmessage\u001b[0m \u001b[0;34m=\u001b[0m \u001b[0mcompat\u001b[0m\u001b[0;34m.\u001b[0m\u001b[0mas_text\u001b[0m\u001b[0;34m(\u001b[0m\u001b[0me\u001b[0m\u001b[0;34m.\u001b[0m\u001b[0mmessage\u001b[0m\u001b[0;34m)\u001b[0m\u001b[0;34m\u001b[0m\u001b[0m\n",
      "\u001b[0;32m/Library/Frameworks/Python.framework/Versions/3.6/lib/python3.6/site-packages/tensorflow/python/client/session.py\u001b[0m in \u001b[0;36m_run_fn\u001b[0;34m(session, feed_dict, fetch_list, target_list, options, run_metadata)\u001b[0m\n\u001b[1;32m   1019\u001b[0m         return tf_session.TF_Run(session, options,\n\u001b[1;32m   1020\u001b[0m                                  \u001b[0mfeed_dict\u001b[0m\u001b[0;34m,\u001b[0m \u001b[0mfetch_list\u001b[0m\u001b[0;34m,\u001b[0m \u001b[0mtarget_list\u001b[0m\u001b[0;34m,\u001b[0m\u001b[0;34m\u001b[0m\u001b[0m\n\u001b[0;32m-> 1021\u001b[0;31m                                  status, run_metadata)\n\u001b[0m\u001b[1;32m   1022\u001b[0m \u001b[0;34m\u001b[0m\u001b[0m\n\u001b[1;32m   1023\u001b[0m     \u001b[0;32mdef\u001b[0m \u001b[0m_prun_fn\u001b[0m\u001b[0;34m(\u001b[0m\u001b[0msession\u001b[0m\u001b[0;34m,\u001b[0m \u001b[0mhandle\u001b[0m\u001b[0;34m,\u001b[0m \u001b[0mfeed_dict\u001b[0m\u001b[0;34m,\u001b[0m \u001b[0mfetch_list\u001b[0m\u001b[0;34m)\u001b[0m\u001b[0;34m:\u001b[0m\u001b[0;34m\u001b[0m\u001b[0m\n",
      "\u001b[0;31mKeyboardInterrupt\u001b[0m: "
     ]
    }
   ],
   "source": [
    "#training\n",
    "from keras.callbacks import EarlyStopping\n",
    "early_stopping = EarlyStopping()\n",
    "hist = model.fit(X, Y, batch_size = 4, epochs = 100,callbacks=[early_stopping])"
   ]
  },
  {
   "cell_type": "code",
   "execution_count": null,
   "metadata": {},
   "outputs": [],
   "source": [
    "#saving model\n",
    "model_json = model.to_json()\n",
    "with open(\"dnn.json\", \"w\") as json_file : \n",
    "    json_file.write(model_json)\n",
    "\n",
    "model.save_weights(\"dnn.h5\")\n",
    "print(\"Saved model to disk\")"
   ]
  },
  {
   "cell_type": "code",
   "execution_count": null,
   "metadata": {},
   "outputs": [],
   "source": [
    "import matplotlib.pyplot as plt\n",
    "\n",
    "fig, loss_ax = plt.subplots()\n",
    "acc_ax = loss_ax.twinx()\n",
    "\n",
    "loss_ax.plot(hist_relu.history['loss'], 'y', label='train loss')\n",
    "loss_ax.set_xlabel('epoch')\n",
    "loss_ax.set_ylabel('loss')\n",
    "loss_ax.legend(loc='upper left')\n",
    "\n",
    "plt.show()"
   ]
  },
  {
   "cell_type": "code",
   "execution_count": null,
   "metadata": {},
   "outputs": [],
   "source": [
    "test.head()"
   ]
  },
  {
   "cell_type": "code",
   "execution_count": null,
   "metadata": {},
   "outputs": [],
   "source": [
    "min_ = 7000000\n",
    "max_ = 8200000000\n",
    "def price(x):\n",
    "    return x*(max_-min_)+min_"
   ]
  },
  {
   "cell_type": "code",
   "execution_count": null,
   "metadata": {},
   "outputs": [],
   "source": [
    "train.head()"
   ]
  },
  {
   "cell_type": "code",
   "execution_count": null,
   "metadata": {},
   "outputs": [],
   "source": [
    "X[0]"
   ]
  },
  {
   "cell_type": "code",
   "execution_count": null,
   "metadata": {},
   "outputs": [],
   "source": [
    "a = price(model.predict(X[0:4]))\n",
    "b = price(Y[0:4])\n",
    "for i in range(0,4):\n",
    "    print(a[i],b[i])"
   ]
  },
  {
   "cell_type": "code",
   "execution_count": null,
   "metadata": {},
   "outputs": [],
   "source": [
    "Dt = test.values\n",
    "price(model.predict(Dt[0:4]))"
   ]
  },
  {
   "cell_type": "markdown",
   "metadata": {},
   "source": [
    "### DNN relu no normalization"
   ]
  },
  {
   "cell_type": "code",
   "execution_count": 229,
   "metadata": {},
   "outputs": [
    {
     "name": "stderr",
     "output_type": "stream",
     "text": [
      "/Library/Frameworks/Python.framework/Versions/3.6/lib/python3.6/site-packages/ipykernel_launcher.py:3: UserWarning: Update your `Dense` call to the Keras 2 API: `Dense(200, input_shape=(17,), kernel_initializer=\"random_normal\")`\n",
      "  This is separate from the ipykernel package so we can avoid doing imports until\n",
      "/Library/Frameworks/Python.framework/Versions/3.6/lib/python3.6/site-packages/ipykernel_launcher.py:7: UserWarning: Update your `Dense` call to the Keras 2 API: `Dense(200, kernel_initializer=\"random_normal\")`\n",
      "  import sys\n",
      "/Library/Frameworks/Python.framework/Versions/3.6/lib/python3.6/site-packages/ipykernel_launcher.py:11: UserWarning: Update your `Dense` call to the Keras 2 API: `Dense(1, activation=\"relu\", kernel_initializer=\"random_normal\")`\n",
      "  # This is added back by InteractiveShellApp.init_path()\n"
     ]
    }
   ],
   "source": [
    "model = Sequential()\n",
    "\n",
    "model.add(Dense(200, init='random_normal',input_shape=(17,)))\n",
    "model.add(BatchNormalization())\n",
    "model.add(Activation('relu'))\n",
    "\n",
    "model.add(Dense(200,init='random_normal'))\n",
    "model.add(BatchNormalization())\n",
    "model.add(Activation('relu'))\n",
    "\n",
    "model.add(Dense(1,init='random_normal', activation='relu'))\n",
    "\n",
    "from keras import backend as K\n",
    "def root_mean_squared_error(y_true, y_pred):\n",
    "        return K.sqrt(K.mean(K.square(y_pred - y_true), axis=-1)) \n",
    "\n",
    "model.compile(optimizer = \"sgd\", loss = root_mean_squared_error, \n",
    "              metrics =[\"mse\"])"
   ]
  },
  {
   "cell_type": "code",
   "execution_count": 230,
   "metadata": {},
   "outputs": [
    {
     "name": "stdout",
     "output_type": "stream",
     "text": [
      "Epoch 1/50\n",
      "1601458/1601458 [==============================] - 210s 131us/step - loss: 199301818.5128 - mean_squared_error: 106006294039254176.0000\n",
      "Epoch 2/50\n",
      "1601458/1601458 [==============================] - 208s 130us/step - loss: 170574753.2461 - mean_squared_error: 80393950582064304.0000\n",
      "Epoch 3/50\n",
      "1601458/1601458 [==============================] - 208s 130us/step - loss: 149125514.7620 - mean_squared_error: 64126329807719424.0000\n",
      "Epoch 4/50\n",
      "1601458/1601458 [==============================] - 217s 135us/step - loss: 142329428.1120 - mean_squared_error: 58421411043783384.0000\n",
      "Epoch 5/50\n",
      "1601458/1601458 [==============================] - 217s 135us/step - loss: 137244776.3326 - mean_squared_error: 55280799637417560.0000\n",
      "Epoch 6/50\n",
      "1601458/1601458 [==============================] - 212s 132us/step - loss: 132743166.2863 - mean_squared_error: 52710032442789856.0000\n",
      "Epoch 7/50\n",
      "1601458/1601458 [==============================] - 217s 135us/step - loss: 129850466.9318 - mean_squared_error: 51511319322323864.0000\n",
      "Epoch 8/50\n",
      "1601458/1601458 [==============================] - 224s 140us/step - loss: 128353086.6511 - mean_squared_error: 51191093684763136.0000\n",
      "Epoch 9/50\n",
      "1601458/1601458 [==============================] - 212s 132us/step - loss: 150977308.8685 - mean_squared_error: 64807080444645184.0000\n",
      "Epoch 10/50\n",
      "1601458/1601458 [==============================] - 213s 133us/step - loss: 142094707.9949 - mean_squared_error: 56730605035199016.0000\n",
      "Epoch 11/50\n",
      "1601458/1601458 [==============================] - 212s 133us/step - loss: 129005748.0140 - mean_squared_error: 49130064009852528.0000\n",
      "Epoch 12/50\n",
      "1601458/1601458 [==============================] - 218s 136us/step - loss: 126762535.0522 - mean_squared_error: 49429545399468472.0000\n",
      "Epoch 13/50\n",
      "1601458/1601458 [==============================] - 225s 141us/step - loss: 124958006.1138 - mean_squared_error: 47403775803278464.0000\n",
      "Epoch 14/50\n",
      "1601458/1601458 [==============================] - 222s 139us/step - loss: 124082561.9995 - mean_squared_error: 46904763991345728.0000\n",
      "Epoch 15/50\n",
      "1601458/1601458 [==============================] - 228s 142us/step - loss: 124182190.3424 - mean_squared_error: 46900138381142056.0000\n",
      "Epoch 16/50\n",
      "1601458/1601458 [==============================] - 228s 142us/step - loss: 126964927.8236 - mean_squared_error: 47574688403175256.0000\n",
      "Epoch 17/50\n",
      "1601458/1601458 [==============================] - 219s 137us/step - loss: 128395503.6623 - mean_squared_error: 47770744264521664.0000\n",
      "Epoch 18/50\n",
      "1601458/1601458 [==============================] - 207s 129us/step - loss: 124814396.4822 - mean_squared_error: 46660759621493080.0000\n",
      "Epoch 19/50\n",
      "1601458/1601458 [==============================] - 194s 121us/step - loss: 120962599.5505 - mean_squared_error: 44704445880669248.0000\n",
      "Epoch 20/50\n",
      "1601458/1601458 [==============================] - 190s 119us/step - loss: 130571638.6261 - mean_squared_error: 49197196203420648.0000\n",
      "Epoch 21/50\n",
      "1601458/1601458 [==============================] - 192s 120us/step - loss: 124756777.7343 - mean_squared_error: 46047660490932304.0000\n",
      "Epoch 22/50\n",
      "1601458/1601458 [==============================] - 191s 119us/step - loss: 122671175.3978 - mean_squared_error: 44708783690919616.0000\n",
      "Epoch 23/50\n",
      "1601458/1601458 [==============================] - 191s 119us/step - loss: 122300266.6208 - mean_squared_error: 44247263357720800.0000\n",
      "Epoch 24/50\n",
      "1601458/1601458 [==============================] - 192s 120us/step - loss: 123572278.4269 - mean_squared_error: 44495685860914256.0000\n",
      "Epoch 25/50\n",
      "1601458/1601458 [==============================] - 194s 121us/step - loss: 127110794.2931 - mean_squared_error: 45506101331876256.0000\n",
      "Epoch 26/50\n",
      "1601458/1601458 [==============================] - 197s 123us/step - loss: 131102691.8922 - mean_squared_error: 46477962087321736.0000\n",
      "Epoch 27/50\n",
      "1601458/1601458 [==============================] - 194s 121us/step - loss: 141372231.4446 - mean_squared_error: 49488597713760528.0000\n",
      "Epoch 28/50\n",
      "1601458/1601458 [==============================] - 193s 121us/step - loss: 164121631.3381 - mean_squared_error: 58100398220808984.0000\n",
      "Epoch 29/50\n",
      "1601458/1601458 [==============================] - 197s 123us/step - loss: 196253787.6955 - mean_squared_error: 76605751175919552.0000\n",
      "Epoch 30/50\n",
      "1601458/1601458 [==============================] - 225s 141us/step - loss: 245278718.3791 - mean_squared_error: 107969804433965744.0000\n",
      "Epoch 31/50\n",
      "1601458/1601458 [==============================] - 231s 144us/step - loss: 288108809.6705 - mean_squared_error: 139854427808642688.0000\n",
      "Epoch 32/50\n",
      "1601458/1601458 [==============================] - 310s 193us/step - loss: 316798460.0493 - mean_squared_error: 166076175159532736.0000\n",
      "Epoch 33/50\n",
      "1601458/1601458 [==============================] - 293s 183us/step - loss: 339417592.7335 - mean_squared_error: 190095387923699616.0000\n",
      "Epoch 34/50\n",
      "1601458/1601458 [==============================] - 236s 147us/step - loss: 380108412.4403 - mean_squared_error: 238995152904631104.0000\n",
      "Epoch 35/50\n",
      "1601458/1601458 [==============================] - 243s 152us/step - loss: 349193320.1296 - mean_squared_error: 201305399910839424.0000\n",
      "Epoch 36/50\n",
      "1601458/1601458 [==============================] - 269s 168us/step - loss: 336455542.9349 - mean_squared_error: 184553313629765216.0000\n",
      "Epoch 37/50\n",
      "1601458/1601458 [==============================] - 241s 150us/step - loss: 340381307.2607 - mean_squared_error: 188668941515459616.0000\n",
      "Epoch 38/50\n",
      "1601458/1601458 [==============================] - 234s 146us/step - loss: 340023283.4003 - mean_squared_error: 188517697521437248.0000\n",
      "Epoch 39/50\n",
      "1601458/1601458 [==============================] - 234s 146us/step - loss: 339519832.9765 - mean_squared_error: 188506892528531616.0000\n",
      "Epoch 40/50\n",
      "1601458/1601458 [==============================] - 240s 150us/step - loss: 336881737.8646 - mean_squared_error: 186506558713420544.0000\n",
      "Epoch 41/50\n",
      "1601458/1601458 [==============================] - 227s 142us/step - loss: 329315308.1101 - mean_squared_error: 180174500450120288.0000\n",
      "Epoch 42/50\n",
      "1601458/1601458 [==============================] - 215s 135us/step - loss: 318476575.1046 - mean_squared_error: 171222543817338208.0000\n",
      "Epoch 43/50\n",
      "1601458/1601458 [==============================] - 210s 131us/step - loss: 309268523.4469 - mean_squared_error: 164054686615338720.0000\n",
      "Epoch 44/50\n",
      "1601458/1601458 [==============================] - 245s 153us/step - loss: 304876637.1657 - mean_squared_error: 161293907180308960.0000\n",
      "Epoch 45/50\n",
      "1601458/1601458 [==============================] - 222s 139us/step - loss: 297508238.2480 - mean_squared_error: 155339727676051424.0000\n",
      "Epoch 46/50\n",
      "1601458/1601458 [==============================] - 224s 140us/step - loss: 288882738.2228 - mean_squared_error: 148945492773857792.0000\n",
      "Epoch 47/50\n",
      "1601458/1601458 [==============================] - 241s 150us/step - loss: 288189659.2346 - mean_squared_error: 149073621920192352.0000\n",
      "Epoch 48/50\n",
      "1601458/1601458 [==============================] - 240s 150us/step - loss: 289386192.5422 - mean_squared_error: 150377718118236864.0000\n",
      "Epoch 49/50\n",
      "1601458/1601458 [==============================] - 242s 151us/step - loss: 293088206.9255 - mean_squared_error: 152568375068623040.0000\n",
      "Epoch 50/50\n",
      "1601458/1601458 [==============================] - 244s 152us/step - loss: 297332155.1810 - mean_squared_error: 155802915977612064.0000\n"
     ]
    }
   ],
   "source": [
    "hist_relu = model.fit(X, Y, epochs=50, batch_size=32)"
   ]
  },
  {
   "cell_type": "code",
   "execution_count": 233,
   "metadata": {},
   "outputs": [
    {
     "data": {
      "image/png": "[encoded data removed]",
      "text/plain": [
       "<matplotlib.figure.Figure at 0x12a576a20>"
      ]
     },
     "metadata": {},
     "output_type": "display_data"
    }
   ],
   "source": [
    "import matplotlib.pyplot as plt\n",
    "\n",
    "fig, loss_ax = plt.subplots()\n",
    "acc_ax = loss_ax.twinx()\n",
    "\n",
    "loss_ax.plot(hist_relu.history['loss'], 'y', label='train loss')\n",
    "loss_ax.set_xlabel('epoch')\n",
    "loss_ax.set_ylabel('loss')\n",
    "loss_ax.legend(loc='upper left')\n",
    "\n",
    "plt.show()"
   ]
  },
  {
   "cell_type": "code",
   "execution_count": 232,
   "metadata": {},
   "outputs": [
    {
     "name": "stdout",
     "output_type": "stream",
     "text": [
      "  pred           y           diff \n",
      "[ 0.]   215000000.0   2150 십만\n",
      "[ 0.]   200000000.0   2000 십만\n",
      "[ 0.]   168000000.0   1680 십만\n",
      "[ 0.]   165000000.0   1650 십만\n",
      "[ 0.]   280000000.0   2800 십만\n",
      "[ 0.]   415000000.0   4150 십만\n",
      "[ 0.]   267000000.0   2670 십만\n",
      "[ 0.]   415000000.0   4150 십만\n",
      "21250 십만\n"
     ]
    }
   ],
   "source": [
    "dnn_r = model.predict(no_norm_X)\n",
    "n=8\n",
    "print(\"  pred           y           diff \")\n",
    "error = 0\n",
    "for i in range(0,n):\n",
    "    print(dnn_r[i],\" \",no_norm_Y[i],\" \",int((no_norm_Y[i]-dnn_r[i])/100000),\"십만\")\n",
    "    error += abs(no_norm_Y[i]-dnn_r[i])\n",
    "print(int(error/100000), '십만')"
   ]
  },
  {
   "cell_type": "markdown",
   "metadata": {},
   "source": [
    "### Regression"
   ]
  },
  {
   "cell_type": "code",
   "execution_count": 448,
   "metadata": {},
   "outputs": [
    {
     "name": "stdout",
     "output_type": "stream",
     "text": [
      "(1601458,) (1601458,) (1601458,)\n",
      "(1601458, 17) (17, 1601458)\n"
     ]
    }
   ],
   "source": [
    "y_  = Y.transpose()\n",
    "print(y_.shape,Y.shape,Y.T.shape)\n",
    "print(X.shape,X.T.shape)"
   ]
  },
  {
   "cell_type": "code",
   "execution_count": 504,
   "metadata": {},
   "outputs": [
    {
     "name": "stdout",
     "output_type": "stream",
     "text": [
      "[  2.61907410e+09   2.29444374e+06  -2.00603846e+06   1.17908318e+06\n",
      "   3.59075955e+06  -6.30731164e+08   4.22363253e+08  -1.92585578e+04\n",
      "   5.73281335e+06   4.01714400e+02   3.98360965e+06  -3.08789560e+04\n",
      "   1.69555403e+07   1.78827385e+06   3.37582876e+05   1.61502398e+06\n",
      "  -1.44210584e+07]\n",
      "-63109657779.5\n"
     ]
    },
    {
     "name": "stderr",
     "output_type": "stream",
     "text": [
      "/Library/Frameworks/Python.framework/Versions/3.6/lib/python3.6/site-packages/sklearn/linear_model/coordinate_descent.py:491: ConvergenceWarning: Objective did not converge. You might want to increase the number of iterations. Fitting data with very small alpha may cause precision problems.\n",
      "  ConvergenceWarning)\n"
     ]
    }
   ],
   "source": [
    "from sklearn import linear_model\n",
    "clf = linear_model.Lasso(alpha=0.05)\n",
    "clf.fit(no_norm_X, no_norm_Y)\n",
    "print(clf.coef_)\n",
    "print(clf.intercept_)  "
   ]
  },
  {
   "cell_type": "code",
   "execution_count": 505,
   "metadata": {},
   "outputs": [
    {
     "data": {
      "text/plain": [
       "array([ -6.10526654e+10,  -6.10526343e+10,  -6.10483868e+10, ...,\n",
       "        -6.27121960e+10,  -6.10033445e+10,  -6.10339242e+10])"
      ]
     },
     "execution_count": 505,
     "metadata": {},
     "output_type": "execute_result"
    }
   ],
   "source": [
    "clf.predict(X)"
   ]
  },
  {
   "cell_type": "code",
   "execution_count": 510,
   "metadata": {},
   "outputs": [
    {
     "data": {
      "text/plain": [
       "0    215000000.0\n",
       "1    200000000.0\n",
       "2    168000000.0\n",
       "Name: transaction_real_price, dtype: float64"
      ]
     },
     "execution_count": 510,
     "metadata": {},
     "output_type": "execute_result"
    }
   ],
   "source": [
    "no_norm_Y[:3]"
   ]
  },
  {
   "cell_type": "markdown",
   "metadata": {},
   "source": [
    "### linear regression"
   ]
  },
  {
   "cell_type": "code",
   "execution_count": 495,
   "metadata": {},
   "outputs": [],
   "source": [
    "from sklearn import linear_model\n",
    "linear_regression_model = linear_model.LinearRegression()"
   ]
  },
  {
   "cell_type": "code",
   "execution_count": 496,
   "metadata": {},
   "outputs": [
    {
     "data": {
      "text/plain": [
       "((1601458, 17), (1601458,))"
      ]
     },
     "execution_count": 496,
     "metadata": {},
     "output_type": "execute_result"
    }
   ],
   "source": [
    "no_norm_X.shape,no_norm_Y.shape"
   ]
  },
  {
   "cell_type": "code",
   "execution_count": 497,
   "metadata": {},
   "outputs": [
    {
     "data": {
      "text/plain": [
       "LinearRegression(copy_X=True, fit_intercept=True, n_jobs=1, normalize=False)"
      ]
     },
     "execution_count": 497,
     "metadata": {},
     "output_type": "execute_result"
    }
   ],
   "source": [
    "linear_regression_model.fit(no_norm_X, no_norm_Y)"
   ]
  },
  {
   "cell_type": "code",
   "execution_count": 501,
   "metadata": {},
   "outputs": [
    {
     "name": "stdout",
     "output_type": "stream",
     "text": [
      "[  3.60301735e+09   2.24824877e+06  -1.98377681e+06   9.92322737e+05\n",
      "   3.42201040e+06  -9.17393566e+08   5.62704111e+08  -2.03015266e+04\n",
      "   5.73296030e+06   4.04074782e+02   4.10315001e+06  -2.98780634e+04\n",
      "   1.69404304e+07   1.81191587e+06   2.82424563e+05   1.38432680e+06\n",
      "  -1.15693616e+07]\n"
     ]
    }
   ],
   "source": [
    "print(linear_regression_model.coef_)"
   ]
  },
  {
   "cell_type": "code",
   "execution_count": 508,
   "metadata": {},
   "outputs": [],
   "source": [
    "lgm_result = linear_regression_model.predict(no_norm_X)"
   ]
  },
  {
   "cell_type": "code",
   "execution_count": 509,
   "metadata": {},
   "outputs": [
    {
     "name": "stdout",
     "output_type": "stream",
     "text": [
      "[  1.40733641e+08   1.28219005e+08   1.88977661e+08   2.68520867e+08\n",
      "   4.67539889e+08] 0    215000000.0\n",
      "1    200000000.0\n",
      "2    168000000.0\n",
      "3    165000000.0\n",
      "4    280000000.0\n",
      "Name: transaction_real_price, dtype: float64\n"
     ]
    }
   ],
   "source": [
    "print(lgm_result[:5],no_norm_Y[:5])"
   ]
  },
  {
   "cell_type": "markdown",
   "metadata": {},
   "source": [
    "### Random Forest regression"
   ]
  },
  {
   "cell_type": "code",
   "execution_count": 312,
   "metadata": {},
   "outputs": [],
   "source": [
    "from sklearn.ensemble import RandomForestRegressor\n",
    "rfr = RandomForestRegressor(n_estimators=10,verbose=1,n_jobs=4)"
   ]
  },
  {
   "cell_type": "code",
   "execution_count": 313,
   "metadata": {},
   "outputs": [
    {
     "name": "stderr",
     "output_type": "stream",
     "text": [
      "[Parallel(n_jobs=4)]: Done  10 out of  10 | elapsed:  1.2min finished\n"
     ]
    },
    {
     "data": {
      "text/plain": [
       "RandomForestRegressor(bootstrap=True, criterion='mse', max_depth=None,\n",
       "           max_features='auto', max_leaf_nodes=None,\n",
       "           min_impurity_decrease=0.0, min_impurity_split=None,\n",
       "           min_samples_leaf=1, min_samples_split=2,\n",
       "           min_weight_fraction_leaf=0.0, n_estimators=10, n_jobs=4,\n",
       "           oob_score=False, random_state=None, verbose=1, warm_start=False)"
      ]
     },
     "execution_count": 313,
     "metadata": {},
     "output_type": "execute_result"
    }
   ],
   "source": [
    "rfr.fit(no_norm_X, no_norm_Y)"
   ]
  },
  {
   "cell_type": "code",
   "execution_count": 314,
   "metadata": {},
   "outputs": [
    {
     "name": "stderr",
     "output_type": "stream",
     "text": [
      "[Parallel(n_jobs=4)]: Done  10 out of  10 | elapsed:    3.9s finished\n"
     ]
    }
   ],
   "source": [
    "rfr_result = rfr.predict(no_norm_X)"
   ]
  },
  {
   "cell_type": "code",
   "execution_count": 315,
   "metadata": {},
   "outputs": [
    {
     "name": "stdout",
     "output_type": "stream",
     "text": [
      "  pred           y           diff \n",
      "218000000.0   215000000.0   -30 십만\n",
      "164800000.0   200000000.0   352 십만\n",
      "164350000.0   168000000.0   36 십만\n",
      "161900000.0   165000000.0   31 십만\n",
      "288300000.0   280000000.0   -83 십만\n",
      "532 십만\n"
     ]
    }
   ],
   "source": [
    "n=5\n",
    "print(\"  pred           y           diff \")\n",
    "error = 0\n",
    "for i in range(0,n):\n",
    "    print(rfr_result[i],\" \",no_norm_Y[i],\" \",int((no_norm_Y[i]-rfr_result[i])/100000),\"십만\")\n",
    "    error += abs(no_norm_Y[i]-rfr_result[i])\n",
    "print(int(error/100000), '십만')"
   ]
  },
  {
   "cell_type": "code",
   "execution_count": 316,
   "metadata": {},
   "outputs": [
    {
     "name": "stdout",
     "output_type": "stream",
     "text": [
      "Accuracy -->  99.8046044833\n"
     ]
    },
    {
     "name": "stderr",
     "output_type": "stream",
     "text": [
      "[Parallel(n_jobs=4)]: Done  10 out of  10 | elapsed:    3.2s finished\n"
     ]
    }
   ],
   "source": [
    "print(\"Accuracy --> \", rfr.score(no_norm_X, no_norm_Y)*100)"
   ]
  },
  {
   "cell_type": "code",
   "execution_count": 321,
   "metadata": {},
   "outputs": [
    {
     "data": {
      "text/plain": [
       "<matplotlib.axes._subplots.AxesSubplot at 0x126345f60>"
      ]
     },
     "execution_count": 321,
     "metadata": {},
     "output_type": "execute_result"
    },
    {
     "data": {
      "image/png": "[encoded data removed]",
      "text/plain": [
       "<matplotlib.figure.Figure at 0x128137828>"
      ]
     },
     "metadata": {},
     "output_type": "display_data"
    }
   ],
   "source": [
    "feat_importances = pd.Series(rfr.feature_importances_, index=train.columns)\n",
    "feat_importances.nlargest(17).plot(kind='barh')"
   ]
  },
  {
   "cell_type": "markdown",
   "metadata": {},
   "source": [
    "### XGBoost"
   ]
  },
  {
   "cell_type": "code",
   "execution_count": 344,
   "metadata": {},
   "outputs": [],
   "source": [
    "import xgboost as xgb\n",
    "from xgboost import plot_tree\n",
    "\n",
    "model_xgb = xgb.XGBRegressor(n_estimators=10,\n",
    "                             max_depth=100,\n",
    "                             learning_rate=0.8,\n",
    "                             n_jobs=16,\n",
    "                             verbose_eval=5,\n",
    "                             silent=False, ) \n"
   ]
  },
  {
   "cell_type": "code",
   "execution_count": 345,
   "metadata": {},
   "outputs": [
    {
     "name": "stdout",
     "output_type": "stream",
     "text": [
      "[03:01:43] src/tree/updater_prune.cc:74: tree pruning end, 1 roots, 16640 extra nodes, 0 pruned nodes, max_depth=28\n",
      "[03:02:43] src/tree/updater_prune.cc:74: tree pruning end, 1 roots, 222570 extra nodes, 0 pruned nodes, max_depth=100\n",
      "[03:03:54] src/tree/updater_prune.cc:74: tree pruning end, 1 roots, 1038456 extra nodes, 0 pruned nodes, max_depth=100\n",
      "[03:05:18] src/tree/updater_prune.cc:74: tree pruning end, 1 roots, 1517974 extra nodes, 0 pruned nodes, max_depth=100\n",
      "[03:06:52] src/tree/updater_prune.cc:74: tree pruning end, 1 roots, 1753610 extra nodes, 0 pruned nodes, max_depth=100\n",
      "[03:08:36] src/tree/updater_prune.cc:74: tree pruning end, 1 roots, 1900456 extra nodes, 0 pruned nodes, max_depth=100\n",
      "[03:10:31] src/tree/updater_prune.cc:74: tree pruning end, 1 roots, 2000174 extra nodes, 0 pruned nodes, max_depth=100\n",
      "[03:12:19] src/tree/updater_prune.cc:74: tree pruning end, 1 roots, 2078664 extra nodes, 0 pruned nodes, max_depth=100\n",
      "[03:14:07] src/tree/updater_prune.cc:74: tree pruning end, 1 roots, 2120186 extra nodes, 0 pruned nodes, max_depth=100\n",
      "[03:16:03] src/tree/updater_prune.cc:74: tree pruning end, 1 roots, 2184194 extra nodes, 0 pruned nodes, max_depth=100\n"
     ]
    },
    {
     "data": {
      "text/plain": [
       "XGBRegressor(base_score=0.5, booster='gbtree', colsample_bylevel=1,\n",
       "       colsample_bytree=1, gamma=0, learning_rate=0.8, max_delta_step=0,\n",
       "       max_depth=100, min_child_weight=1, missing=None, n_estimators=10,\n",
       "       n_jobs=16, nthread=None, objective='reg:linear', random_state=0,\n",
       "       reg_alpha=0, reg_lambda=1, scale_pos_weight=1, seed=None,\n",
       "       silent=False, subsample=1, verbose_eval=5)"
      ]
     },
     "execution_count": 345,
     "metadata": {},
     "output_type": "execute_result"
    }
   ],
   "source": [
    "model_xgb.fit(no_norm_X, no_norm_Y)"
   ]
  },
  {
   "cell_type": "code",
   "execution_count": 346,
   "metadata": {},
   "outputs": [
    {
     "data": {
      "text/plain": [
       "0.99987223656346469"
      ]
     },
     "execution_count": 346,
     "metadata": {},
     "output_type": "execute_result"
    }
   ],
   "source": [
    "model_xgb.score(no_norm_X,no_norm_Y)"
   ]
  },
  {
   "cell_type": "markdown",
   "metadata": {},
   "source": [
    "### SVR "
   ]
  },
  {
   "cell_type": "code",
   "execution_count": null,
   "metadata": {},
   "outputs": [],
   "source": [
    "from sklearn import svm\n",
    "svr_opt = svm.SVR(C = 100000, gamma = 1e-08)\n",
    "\n",
    "svr = svr_opt.fit(no_norm_X, no_norm_Y,verbose=True)"
   ]
  },
  {
   "cell_type": "code",
   "execution_count": null,
   "metadata": {},
   "outputs": [],
   "source": []
  },
  {
   "cell_type": "markdown",
   "metadata": {},
   "source": [
    "### PCA + regression"
   ]
  },
  {
   "cell_type": "code",
   "execution_count": 256,
   "metadata": {},
   "outputs": [
    {
     "name": "stdout",
     "output_type": "stream",
     "text": [
      "original shape:    (1601458, 17)\n",
      "transformed shape: (1601458, 2)\n"
     ]
    }
   ],
   "source": [
    "from sklearn.decomposition import PCA\n",
    "\n",
    "pca = PCA(n_components=2)\n",
    "pca.fit(no_norm_X)\n",
    "pca_X = pca.transform(no_norm_X)\n",
    "print(\"original shape:   \", no_norm_X.shape)\n",
    "print(\"transformed shape:\", pca_X.shape)"
   ]
  },
  {
   "cell_type": "code",
   "execution_count": 260,
   "metadata": {},
   "outputs": [
    {
     "data": {
      "text/plain": [
       "array([[  56311.20373729,    -825.57057192],\n",
       "       [  56310.23260846,    -830.96911564],\n",
       "       [ -26380.06427412,    -726.96095221],\n",
       "       ..., \n",
       "       [  21229.13689958,     223.92596208],\n",
       "       [ 131010.4458369 ,    -516.11404605],\n",
       "       [ -28532.30195768,    -460.16659087]])"
      ]
     },
     "execution_count": 260,
     "metadata": {},
     "output_type": "execute_result"
    }
   ],
   "source": [
    "pca_X"
   ]
  },
  {
   "cell_type": "code",
   "execution_count": 289,
   "metadata": {},
   "outputs": [
    {
     "data": {
      "image/png": "[encoded data removed]",
      "text/plain": [
       "<matplotlib.figure.Figure at 0x125e55470>"
      ]
     },
     "metadata": {},
     "output_type": "display_data"
    }
   ],
   "source": [
    "import numpy as np\n",
    "import seaborn as sns\n",
    "import matplotlib.pyplot as plt\n",
    "%matplotlib inline\n",
    "\n",
    "cmap = sns.cubehelix_palette(rot=-.4,as_cmap=True)\n",
    "n=1600000\n",
    "plt.scatter(pca_X[:,0][:n], pca_X[:,1][:n], c=no_norm_Y.values[:n], s=5, cmap=cmap)\n",
    "plt.show()"
   ]
  },
  {
   "cell_type": "markdown",
   "metadata": {},
   "source": [
    "##### PCA + RandomForestRegressor,RFR"
   ]
  },
  {
   "cell_type": "code",
   "execution_count": 296,
   "metadata": {},
   "outputs": [],
   "source": [
    "from sklearn.ensemble import RandomForestRegressor\n",
    "pca_rfr = RandomForestRegressor(n_estimators=20,verbose=1,n_jobs=4)"
   ]
  },
  {
   "cell_type": "code",
   "execution_count": 297,
   "metadata": {},
   "outputs": [
    {
     "name": "stderr",
     "output_type": "stream",
     "text": [
      "[Parallel(n_jobs=4)]: Done  20 out of  20 | elapsed:   58.4s finished\n"
     ]
    },
    {
     "data": {
      "text/plain": [
       "RandomForestRegressor(bootstrap=True, criterion='mse', max_depth=None,\n",
       "           max_features='auto', max_leaf_nodes=None,\n",
       "           min_impurity_decrease=0.0, min_impurity_split=None,\n",
       "           min_samples_leaf=1, min_samples_split=2,\n",
       "           min_weight_fraction_leaf=0.0, n_estimators=20, n_jobs=4,\n",
       "           oob_score=False, random_state=None, verbose=1, warm_start=False)"
      ]
     },
     "execution_count": 297,
     "metadata": {},
     "output_type": "execute_result"
    }
   ],
   "source": [
    "pca_rfr.fit(pca_X, no_norm_Y)"
   ]
  },
  {
   "cell_type": "code",
   "execution_count": 299,
   "metadata": {},
   "outputs": [
    {
     "name": "stdout",
     "output_type": "stream",
     "text": [
      "  pred           y           diff \n",
      "222550000.0   215000000.0   -75 십만\n",
      "219450000.0   200000000.0   -194 십만\n",
      "247040714.286   168000000.0   -790 십만\n",
      "246250000.0   165000000.0   -812 십만\n",
      "388900000.0   280000000.0   -1089 십만\n",
      "2961 십만\n"
     ]
    },
    {
     "name": "stderr",
     "output_type": "stream",
     "text": [
      "[Parallel(n_jobs=4)]: Done  20 out of  20 | elapsed:    9.3s finished\n"
     ]
    }
   ],
   "source": [
    "pca_rfr_result = pca_rfr.predict(pca_X)\n",
    "n=5\n",
    "print(\"  pred           y           diff \")\n",
    "error = 0\n",
    "for i in range(0,n):\n",
    "    print(pca_rfr_result[i],\" \",no_norm_Y[i],\" \",int((no_norm_Y[i]-pca_rfr_result[i])/100000),\"십만\")\n",
    "    error += abs(no_norm_Y[i]-pca_rfr_result[i])\n",
    "print(int(error/100000), '십만')"
   ]
  },
  {
   "cell_type": "markdown",
   "metadata": {},
   "source": [
    "##### PCA + XGBoost"
   ]
  },
  {
   "cell_type": "code",
   "execution_count": 307,
   "metadata": {},
   "outputs": [],
   "source": [
    "import xgboost as xgb\n",
    "from xgboost import plot_tree\n",
    "\n",
    "pca_xgb = xgb.XGBRegressor(n_estimators=10,\n",
    "                             max_depth=60,\n",
    "                             learning_rate=0.5,\n",
    "                             n_jobs=16,\n",
    "                             verbose_eval=5,\n",
    "                             silent=False, ) \n"
   ]
  },
  {
   "cell_type": "code",
   "execution_count": 308,
   "metadata": {},
   "outputs": [
    {
     "name": "stdout",
     "output_type": "stream",
     "text": [
      "[00:52:21] src/tree/updater_prune.cc:74: tree pruning end, 1 roots, 34764 extra nodes, 0 pruned nodes, max_depth=60\n",
      "[00:52:32] src/tree/updater_prune.cc:74: tree pruning end, 1 roots, 242488 extra nodes, 0 pruned nodes, max_depth=60\n",
      "[00:52:45] src/tree/updater_prune.cc:74: tree pruning end, 1 roots, 1311074 extra nodes, 0 pruned nodes, max_depth=60\n",
      "[00:53:03] src/tree/updater_prune.cc:74: tree pruning end, 1 roots, 2453762 extra nodes, 0 pruned nodes, max_depth=60\n",
      "[00:53:22] src/tree/updater_prune.cc:74: tree pruning end, 1 roots, 2610056 extra nodes, 0 pruned nodes, max_depth=60\n",
      "[00:53:46] src/tree/updater_prune.cc:74: tree pruning end, 1 roots, 2130038 extra nodes, 0 pruned nodes, max_depth=60\n",
      "[00:54:03] src/tree/updater_prune.cc:74: tree pruning end, 1 roots, 1481086 extra nodes, 0 pruned nodes, max_depth=60\n",
      "[00:54:19] src/tree/updater_prune.cc:74: tree pruning end, 1 roots, 850052 extra nodes, 0 pruned nodes, max_depth=60\n",
      "[00:54:33] src/tree/updater_prune.cc:74: tree pruning end, 1 roots, 540056 extra nodes, 0 pruned nodes, max_depth=60\n",
      "[00:54:46] src/tree/updater_prune.cc:74: tree pruning end, 1 roots, 350786 extra nodes, 0 pruned nodes, max_depth=60\n"
     ]
    },
    {
     "data": {
      "text/plain": [
       "XGBRegressor(base_score=0.5, booster='gbtree', colsample_bylevel=1,\n",
       "       colsample_bytree=1, gamma=0, learning_rate=0.5, max_delta_step=0,\n",
       "       max_depth=60, min_child_weight=1, missing=None, n_estimators=10,\n",
       "       n_jobs=16, nthread=None, objective='reg:linear', random_state=0,\n",
       "       reg_alpha=0, reg_lambda=1, scale_pos_weight=1, seed=None,\n",
       "       silent=False, subsample=1, verbose_eval=5)"
      ]
     },
     "execution_count": 308,
     "metadata": {},
     "output_type": "execute_result"
    }
   ],
   "source": [
    "pca_xgb.fit(pca_X, no_norm_Y)"
   ]
  },
  {
   "cell_type": "code",
   "execution_count": 309,
   "metadata": {},
   "outputs": [
    {
     "name": "stdout",
     "output_type": "stream",
     "text": [
      "  pred           y           diff \n",
      "2.29186e+08   215000000.0   -141 십만\n",
      "2.03122e+08   200000000.0   -31 십만\n",
      "2.64839e+08   168000000.0   -968 십만\n",
      "2.2051e+08   165000000.0   -555 십만\n",
      "4.11637e+08   280000000.0   -1316 십만\n",
      "3012 십만\n"
     ]
    }
   ],
   "source": [
    "pca_xgb_result = pca_xgb.predict(pca_X)\n",
    "n=5\n",
    "print(\"  pred           y           diff \")\n",
    "error = 0\n",
    "for i in range(0,n):\n",
    "    print(pca_xgb_result[i],\" \",no_norm_Y[i],\" \",int((no_norm_Y[i]-pca_xgb_result[i])/100000),\"십만\")\n",
    "    error += abs(no_norm_Y[i]-pca_xgb_result[i])\n",
    "print(int(error/100000), '십만')"
   ]
  },
  {
   "cell_type": "code",
   "execution_count": 310,
   "metadata": {},
   "outputs": [
    {
     "data": {
      "image/png": "[encoded data removed]",
      "text/plain": [
       "<matplotlib.figure.Figure at 0x12c452240>"
      ]
     },
     "metadata": {},
     "output_type": "display_data"
    }
   ],
   "source": [
    "cmap = sns.cubehelix_palette(rot=-.4,as_cmap=True)\n",
    "n=1600000\n",
    "plt.scatter(pca_X[:,0][:n], pca_X[:,1][:n], c=pca_xgb_result[:n], s=5, cmap=cmap)\n",
    "plt.show()"
   ]
  },
  {
   "cell_type": "markdown",
   "metadata": {},
   "source": [
    "## SUBMISSION"
   ]
  },
  {
   "cell_type": "code",
   "execution_count": 553,
   "metadata": {},
   "outputs": [
    {
     "data": {
      "text/html": [
       "<div>\n",
       "<style>\n",
       "    .dataframe thead tr:only-child th {\n",
       "        text-align: right;\n",
       "    }\n",
       "\n",
       "    .dataframe thead th {\n",
       "        text-align: left;\n",
       "    }\n",
       "\n",
       "    .dataframe tbody tr th {\n",
       "        vertical-align: top;\n",
       "    }\n",
       "</style>\n",
       "<table border=\"1\" class=\"dataframe\">\n",
       "  <thead>\n",
       "    <tr style=\"text-align: right;\">\n",
       "      <th></th>\n",
       "      <th>city</th>\n",
       "      <th>transaction_date</th>\n",
       "      <th>year_of_completion</th>\n",
       "      <th>exclusive_use_area</th>\n",
       "      <th>floor</th>\n",
       "      <th>latitude</th>\n",
       "      <th>longitude</th>\n",
       "      <th>total_household_count_in_sites</th>\n",
       "      <th>apartment_building_count_in_sites</th>\n",
       "      <th>room_id</th>\n",
       "      <th>supply_area</th>\n",
       "      <th>total_household_count_of_area_type</th>\n",
       "      <th>transaction_year</th>\n",
       "      <th>transaction_month</th>\n",
       "      <th>district</th>\n",
       "      <th>street</th>\n",
       "      <th>etc_address</th>\n",
       "    </tr>\n",
       "  </thead>\n",
       "  <tbody>\n",
       "    <tr>\n",
       "      <th>1601458</th>\n",
       "      <td>1</td>\n",
       "      <td>2</td>\n",
       "      <td>1984</td>\n",
       "      <td>83.58</td>\n",
       "      <td>14</td>\n",
       "      <td>37.519926</td>\n",
       "      <td>127.052515</td>\n",
       "      <td>375</td>\n",
       "      <td>4</td>\n",
       "      <td>6648</td>\n",
       "      <td>107.19</td>\n",
       "      <td>2</td>\n",
       "      <td>2009</td>\n",
       "      <td>12</td>\n",
       "      <td>680</td>\n",
       "      <td>104</td>\n",
       "      <td>0</td>\n",
       "    </tr>\n",
       "    <tr>\n",
       "      <th>1601459</th>\n",
       "      <td>1</td>\n",
       "      <td>0</td>\n",
       "      <td>1968</td>\n",
       "      <td>107.17</td>\n",
       "      <td>10</td>\n",
       "      <td>37.572215</td>\n",
       "      <td>126.987643</td>\n",
       "      <td>149</td>\n",
       "      <td>1</td>\n",
       "      <td>46184</td>\n",
       "      <td>107.17</td>\n",
       "      <td>10</td>\n",
       "      <td>2013</td>\n",
       "      <td>4</td>\n",
       "      <td>110</td>\n",
       "      <td>137</td>\n",
       "      <td>0</td>\n",
       "    </tr>\n",
       "    <tr>\n",
       "      <th>1601460</th>\n",
       "      <td>1</td>\n",
       "      <td>2</td>\n",
       "      <td>1968</td>\n",
       "      <td>36.17</td>\n",
       "      <td>6</td>\n",
       "      <td>37.570067</td>\n",
       "      <td>127.010640</td>\n",
       "      <td>120</td>\n",
       "      <td>4</td>\n",
       "      <td>45540</td>\n",
       "      <td>39.66</td>\n",
       "      <td>58</td>\n",
       "      <td>2013</td>\n",
       "      <td>9</td>\n",
       "      <td>110</td>\n",
       "      <td>174</td>\n",
       "      <td>0</td>\n",
       "    </tr>\n",
       "    <tr>\n",
       "      <th>1601461</th>\n",
       "      <td>1</td>\n",
       "      <td>0</td>\n",
       "      <td>2007</td>\n",
       "      <td>45.67</td>\n",
       "      <td>8</td>\n",
       "      <td>37.556938</td>\n",
       "      <td>126.859255</td>\n",
       "      <td>419</td>\n",
       "      <td>1</td>\n",
       "      <td>19069</td>\n",
       "      <td>87.11</td>\n",
       "      <td>1</td>\n",
       "      <td>2013</td>\n",
       "      <td>12</td>\n",
       "      <td>500</td>\n",
       "      <td>102</td>\n",
       "      <td>0</td>\n",
       "    </tr>\n",
       "    <tr>\n",
       "      <th>1601462</th>\n",
       "      <td>1</td>\n",
       "      <td>0</td>\n",
       "      <td>1988</td>\n",
       "      <td>41.85</td>\n",
       "      <td>4</td>\n",
       "      <td>37.652256</td>\n",
       "      <td>127.082003</td>\n",
       "      <td>210</td>\n",
       "      <td>2</td>\n",
       "      <td>704</td>\n",
       "      <td>56.70</td>\n",
       "      <td>90</td>\n",
       "      <td>2014</td>\n",
       "      <td>1</td>\n",
       "      <td>350</td>\n",
       "      <td>106</td>\n",
       "      <td>0</td>\n",
       "    </tr>\n",
       "  </tbody>\n",
       "</table>\n",
       "</div>"
      ],
      "text/plain": [
       "         city  transaction_date  year_of_completion  exclusive_use_area  \\\n",
       "1601458     1                 2                1984               83.58   \n",
       "1601459     1                 0                1968              107.17   \n",
       "1601460     1                 2                1968               36.17   \n",
       "1601461     1                 0                2007               45.67   \n",
       "1601462     1                 0                1988               41.85   \n",
       "\n",
       "         floor   latitude   longitude  total_household_count_in_sites  \\\n",
       "1601458     14  37.519926  127.052515                             375   \n",
       "1601459     10  37.572215  126.987643                             149   \n",
       "1601460      6  37.570067  127.010640                             120   \n",
       "1601461      8  37.556938  126.859255                             419   \n",
       "1601462      4  37.652256  127.082003                             210   \n",
       "\n",
       "         apartment_building_count_in_sites  room_id  supply_area  \\\n",
       "1601458                                  4     6648       107.19   \n",
       "1601459                                  1    46184       107.17   \n",
       "1601460                                  4    45540        39.66   \n",
       "1601461                                  1    19069        87.11   \n",
       "1601462                                  2      704        56.70   \n",
       "\n",
       "         total_household_count_of_area_type  transaction_year  \\\n",
       "1601458                                   2              2009   \n",
       "1601459                                  10              2013   \n",
       "1601460                                  58              2013   \n",
       "1601461                                   1              2013   \n",
       "1601462                                  90              2014   \n",
       "\n",
       "         transaction_month  district  street  etc_address  \n",
       "1601458                 12       680     104            0  \n",
       "1601459                  4       110     137            0  \n",
       "1601460                  9       110     174            0  \n",
       "1601461                 12       500     102            0  \n",
       "1601462                  1       350     106            0  "
      ]
     },
     "execution_count": 553,
     "metadata": {},
     "output_type": "execute_result"
    }
   ],
   "source": [
    "no_normalization_test.head()"
   ]
  },
  {
   "cell_type": "code",
   "execution_count": 83,
   "metadata": {},
   "outputs": [
    {
     "ename": "NameError",
     "evalue": "name 'rfr' is not defined",
     "output_type": "error",
     "traceback": [
      "\u001b[0;31m---------------------------------------------------------------------------\u001b[0m",
      "\u001b[0;31mNameError\u001b[0m                                 Traceback (most recent call last)",
      "\u001b[0;32m<ipython-input-83-819614df4cf9>\u001b[0m in \u001b[0;36m<module>\u001b[0;34m()\u001b[0m\n\u001b[0;32m----> 1\u001b[0;31m \u001b[0mrfr_re\u001b[0m \u001b[0;34m=\u001b[0m \u001b[0mrfr\u001b[0m\u001b[0;34m.\u001b[0m\u001b[0mpredict\u001b[0m\u001b[0;34m(\u001b[0m\u001b[0mno_normalization_test\u001b[0m\u001b[0;34m.\u001b[0m\u001b[0mvalues\u001b[0m\u001b[0;34m)\u001b[0m\u001b[0;34m\u001b[0m\u001b[0m\n\u001b[0m\u001b[1;32m      2\u001b[0m \u001b[0mrfr_re\u001b[0m\u001b[0;34m\u001b[0m\u001b[0m\n",
      "\u001b[0;31mNameError\u001b[0m: name 'rfr' is not defined"
     ]
    }
   ],
   "source": [
    "rfr_re = rfr.predict(no_normalization_test.values)\n",
    "rfr_re"
   ]
  },
  {
   "cell_type": "code",
   "execution_count": 647,
   "metadata": {},
   "outputs": [
    {
     "data": {
      "text/plain": [
       "array([  6.79622773e+08,   5.30454659e+08,   2.66530029e+08, ...,\n",
       "         3.17625813e+08,   4.43753609e+08,   3.33158881e+08])"
      ]
     },
     "execution_count": 647,
     "metadata": {},
     "output_type": "execute_result"
    }
   ],
   "source": [
    "result = GBR.predict(no_normalization_test.values)\n",
    "result"
   ]
  },
  {
   "cell_type": "code",
   "execution_count": 209,
   "metadata": {},
   "outputs": [
    {
     "data": {
      "text/plain": [
       "array([  8.35946112e+08,   3.79551456e+08,   1.15425792e+08,\n",
       "         2.27313584e+08,   1.43140416e+08], dtype=float32)"
      ]
     },
     "execution_count": 209,
     "metadata": {},
     "output_type": "execute_result"
    }
   ],
   "source": [
    "xgb_result = model_xgb.predict(no_normalization_test.values)\n",
    "xgb_result[:5]"
   ]
  },
  {
   "cell_type": "code",
   "execution_count": 210,
   "metadata": {},
   "outputs": [],
   "source": [
    "sub = pd.read_csv('./submission.csv')"
   ]
  },
  {
   "cell_type": "code",
   "execution_count": 211,
   "metadata": {},
   "outputs": [
    {
     "data": {
      "text/html": [
       "<div>\n",
       "<style>\n",
       "    .dataframe thead tr:only-child th {\n",
       "        text-align: right;\n",
       "    }\n",
       "\n",
       "    .dataframe thead th {\n",
       "        text-align: left;\n",
       "    }\n",
       "\n",
       "    .dataframe tbody tr th {\n",
       "        vertical-align: top;\n",
       "    }\n",
       "</style>\n",
       "<table border=\"1\" class=\"dataframe\">\n",
       "  <thead>\n",
       "    <tr style=\"text-align: right;\">\n",
       "      <th></th>\n",
       "      <th>key</th>\n",
       "      <th>transaction_real_price</th>\n",
       "    </tr>\n",
       "  </thead>\n",
       "  <tbody>\n",
       "    <tr>\n",
       "      <th>0</th>\n",
       "      <td>462533</td>\n",
       "      <td>0</td>\n",
       "    </tr>\n",
       "    <tr>\n",
       "      <th>1</th>\n",
       "      <td>764018</td>\n",
       "      <td>0</td>\n",
       "    </tr>\n",
       "    <tr>\n",
       "      <th>2</th>\n",
       "      <td>813528</td>\n",
       "      <td>0</td>\n",
       "    </tr>\n",
       "    <tr>\n",
       "      <th>3</th>\n",
       "      <td>845097</td>\n",
       "      <td>0</td>\n",
       "    </tr>\n",
       "    <tr>\n",
       "      <th>4</th>\n",
       "      <td>856338</td>\n",
       "      <td>0</td>\n",
       "    </tr>\n",
       "  </tbody>\n",
       "</table>\n",
       "</div>"
      ],
      "text/plain": [
       "      key  transaction_real_price\n",
       "0  462533                       0\n",
       "1  764018                       0\n",
       "2  813528                       0\n",
       "3  845097                       0\n",
       "4  856338                       0"
      ]
     },
     "execution_count": 211,
     "metadata": {},
     "output_type": "execute_result"
    }
   ],
   "source": [
    "sub.head()"
   ]
  },
  {
   "cell_type": "code",
   "execution_count": 213,
   "metadata": {},
   "outputs": [],
   "source": [
    "sub['transaction_real_price'] = xgb_result"
   ]
  },
  {
   "cell_type": "code",
   "execution_count": 214,
   "metadata": {},
   "outputs": [
    {
     "data": {
      "text/html": [
       "<div>\n",
       "<style>\n",
       "    .dataframe thead tr:only-child th {\n",
       "        text-align: right;\n",
       "    }\n",
       "\n",
       "    .dataframe thead th {\n",
       "        text-align: left;\n",
       "    }\n",
       "\n",
       "    .dataframe tbody tr th {\n",
       "        vertical-align: top;\n",
       "    }\n",
       "</style>\n",
       "<table border=\"1\" class=\"dataframe\">\n",
       "  <thead>\n",
       "    <tr style=\"text-align: right;\">\n",
       "      <th></th>\n",
       "      <th>key</th>\n",
       "      <th>transaction_real_price</th>\n",
       "    </tr>\n",
       "  </thead>\n",
       "  <tbody>\n",
       "    <tr>\n",
       "      <th>0</th>\n",
       "      <td>462533</td>\n",
       "      <td>835946112.0</td>\n",
       "    </tr>\n",
       "    <tr>\n",
       "      <th>1</th>\n",
       "      <td>764018</td>\n",
       "      <td>379551456.0</td>\n",
       "    </tr>\n",
       "    <tr>\n",
       "      <th>2</th>\n",
       "      <td>813528</td>\n",
       "      <td>115425792.0</td>\n",
       "    </tr>\n",
       "    <tr>\n",
       "      <th>3</th>\n",
       "      <td>845097</td>\n",
       "      <td>227313584.0</td>\n",
       "    </tr>\n",
       "    <tr>\n",
       "      <th>4</th>\n",
       "      <td>856338</td>\n",
       "      <td>143140416.0</td>\n",
       "    </tr>\n",
       "  </tbody>\n",
       "</table>\n",
       "</div>"
      ],
      "text/plain": [
       "      key  transaction_real_price\n",
       "0  462533             835946112.0\n",
       "1  764018             379551456.0\n",
       "2  813528             115425792.0\n",
       "3  845097             227313584.0\n",
       "4  856338             143140416.0"
      ]
     },
     "execution_count": 214,
     "metadata": {},
     "output_type": "execute_result"
    }
   ],
   "source": [
    "sub.head()"
   ]
  },
  {
   "cell_type": "code",
   "execution_count": 216,
   "metadata": {},
   "outputs": [],
   "source": [
    "sub.to_csv(\"xgb_result.csv\", mode='w',index=False)\n"
   ]
  },
  {
   "cell_type": "code",
   "execution_count": null,
   "metadata": {},
   "outputs": [],
   "source": []
  }
 ],
 "metadata": {
  "kernelspec": {
   "display_name": "Python 3",
   "language": "python",
   "name": "python3"
  },
  "language_info": {
   "codemirror_mode": {
    "name": "ipython",
    "version": 3
   },
   "file_extension": ".py",
   "mimetype": "text/x-python",
   "name": "python",
   "nbconvert_exporter": "python",
   "pygments_lexer": "ipython3",
   "version": "3.6.1"
  }
 },
 "nbformat": 4,
 "nbformat_minor": 2
}
